{
 "cells": [
  {
   "cell_type": "markdown",
   "id": "bb626954",
   "metadata": {
    "papermill": {
     "duration": 0.008303,
     "end_time": "2022-12-02T18:08:29.922815",
     "exception": false,
     "start_time": "2022-12-02T18:08:29.914512",
     "status": "completed"
    },
    "tags": []
   },
   "source": [
    "<font color=\"#CC3D3D\"><p>\n",
    "# [Competition] Building a `DNN` Model with `Pipeline`"
   ]
  },
  {
   "cell_type": "markdown",
   "id": "214cb8fe",
   "metadata": {
    "papermill": {
     "duration": 0.006517,
     "end_time": "2022-12-02T18:08:29.936432",
     "exception": false,
     "start_time": "2022-12-02T18:08:29.929915",
     "status": "completed"
    },
    "tags": []
   },
   "source": [
    "####  전역변수 설정"
   ]
  },
  {
   "cell_type": "code",
   "execution_count": 1,
   "id": "b4e6d98c",
   "metadata": {
    "execution": {
     "iopub.execute_input": "2022-12-02T18:08:29.952309Z",
     "iopub.status.busy": "2022-12-02T18:08:29.951574Z",
     "iopub.status.idle": "2022-12-02T18:08:29.960812Z",
     "shell.execute_reply": "2022-12-02T18:08:29.960110Z"
    },
    "papermill": {
     "duration": 0.019883,
     "end_time": "2022-12-02T18:08:29.963040",
     "exception": false,
     "start_time": "2022-12-02T18:08:29.943157",
     "status": "completed"
    },
    "tags": []
   },
   "outputs": [],
   "source": [
    "DNN_VERSION = 1.0  # submission 화일명에 사용\n",
    "SEED = 0           # random_state 지정\n",
    "NCOMP = 50         # 축소할 차원수\n",
    "K = 10             # KMeans의 군집수"
   ]
  },
  {
   "cell_type": "code",
   "execution_count": 2,
   "id": "71b50c50",
   "metadata": {
    "execution": {
     "iopub.execute_input": "2022-12-02T18:08:29.978595Z",
     "iopub.status.busy": "2022-12-02T18:08:29.977635Z",
     "iopub.status.idle": "2022-12-02T18:08:29.982150Z",
     "shell.execute_reply": "2022-12-02T18:08:29.981192Z"
    },
    "papermill": {
     "duration": 0.014216,
     "end_time": "2022-12-02T18:08:29.984145",
     "exception": false,
     "start_time": "2022-12-02T18:08:29.969929",
     "status": "completed"
    },
    "tags": []
   },
   "outputs": [],
   "source": [
    "#!pip install tensorflow"
   ]
  },
  {
   "cell_type": "code",
   "execution_count": 3,
   "id": "c1809d2d",
   "metadata": {
    "execution": {
     "iopub.execute_input": "2022-12-02T18:08:29.999616Z",
     "iopub.status.busy": "2022-12-02T18:08:29.999285Z",
     "iopub.status.idle": "2022-12-02T18:08:38.704888Z",
     "shell.execute_reply": "2022-12-02T18:08:38.703699Z"
    },
    "papermill": {
     "duration": 8.717036,
     "end_time": "2022-12-02T18:08:38.708371",
     "exception": false,
     "start_time": "2022-12-02T18:08:29.991335",
     "status": "completed"
    },
    "tags": []
   },
   "outputs": [
    {
     "data": {
      "text/html": [
       "<style type='text/css'>\n",
       ".datatable table.frame { margin-bottom: 0; }\n",
       ".datatable table.frame thead { border-bottom: none; }\n",
       ".datatable table.frame tr.coltypes td {  color: #FFFFFF;  line-height: 6px;  padding: 0 0.5em;}\n",
       ".datatable .bool    { background: #DDDD99; }\n",
       ".datatable .object  { background: #565656; }\n",
       ".datatable .int     { background: #5D9E5D; }\n",
       ".datatable .float   { background: #4040CC; }\n",
       ".datatable .str     { background: #CC4040; }\n",
       ".datatable .time    { background: #40CC40; }\n",
       ".datatable .row_index {  background: var(--jp-border-color3);  border-right: 1px solid var(--jp-border-color0);  color: var(--jp-ui-font-color3);  font-size: 9px;}\n",
       ".datatable .frame tbody td { text-align: left; }\n",
       ".datatable .frame tr.coltypes .row_index {  background: var(--jp-border-color0);}\n",
       ".datatable th:nth-child(2) { padding-left: 12px; }\n",
       ".datatable .hellipsis {  color: var(--jp-cell-editor-border-color);}\n",
       ".datatable .vellipsis {  background: var(--jp-layout-color0);  color: var(--jp-cell-editor-border-color);}\n",
       ".datatable .na {  color: var(--jp-cell-editor-border-color);  font-size: 80%;}\n",
       ".datatable .sp {  opacity: 0.25;}\n",
       ".datatable .footer { font-size: 9px; }\n",
       ".datatable .frame_dimensions {  background: var(--jp-border-color3);  border-top: 1px solid var(--jp-border-color0);  color: var(--jp-ui-font-color3);  display: inline-block;  opacity: 0.6;  padding: 1px 10px 1px 5px;}\n",
       ".datatable .frame thead tr.colnames {  background-image: url('data:image/png;base64,iVBORw0KGgoAAAANSUhEUgAAABwAAAA4CAYAAADuMJi0AAAGR0lEQVR42rVZ21IbRxBtCbQrkIR2dQVjsLmDLBsET3nTQ8ouYRkQVf6e/E9+Im958qMfkgoXAaKSSj6C9Jnd2R2NeiRSRaZqitVOT5+Z6dNnWoKGlN94JFp8Ipofkb/7SOXjGyp8wF+z35K3f0uUp/GW4XfLQ8v2gefj3ZCCzojoNfue+43o1Q3l3xB/yA3JO7jnF2pCLnI+pNyx/qw7L+SQ7T2N9p2f8c60QcfcK6KGXsAd+ZvA4LlZYuSSAoOhMs5vwJkEGDlbPMaJoA+FcQ0IH38QLWkbAFLkOOhoMF5tU6/eBRhNjro0ZgKiPRAt3FLhCO/vqdgmNTm32LkmKpvBmQY4q5uAaAgbwDBG2BVv3bfI8KKAMWj2kfw9+pkZREIbEql4ST1x7hgHIANkbJ//MF8mAH/ilTCJ2tIi4ASr1IC3VNqXHKOxjy34mgoImnOQtx1g81fkqTiMOBVGcTogNhiT5iBHET8R8C+iApJUmgim3SQAXhsLQz7ee2G8gOAQNtJckBEplADiAxtX+G9NmhDl0qJKnTvyWlAMPYZnvIviGXRg6/Dh824DBXhP/tbfREXJEIvQ+aaPGjG7pvw6r3xdx+9hqb4dgZaP2XmdHO2K/B0c1+oUph6k8kShBryl/Ft0DYgjTlOieOACHFFpVyUl72T9V3cM1jUoYvxIC2vpCSys/ck70mDYuYvdvKjlMdKAUThneWVU1aAsyjv6PURDiwNsHGBZzY+JtAAgE2TFxdRHJdyIp/f+zqu09M5cDP2F08Ukkpj4YNSdX950HY2pNCCUK/Hhx5ZMBfjNSEzdsIihVzzAMdn9dz4eDYhnyQb9SSCiAryiJcQk82LiTbJ4x2FZJaUenpKnzP95WyDf4Y+QN9EFHHSeDLGdBjjKNQ5vKHf4XMA7KrY0y0GEObBOO/8e1ywuQExOHXktuQyJALEBpcEqhwtHqgiDuCK5b6i0p2MQpcckIIoh+6hYgTZtO8xlMi6O4tKCF/kOGHEg/W0UUpHW0ZoGNZ1ExZWcn7EErgwt4uj50E/sFBjXXIayWvh7WryjasxarZKssXon0zxvvkc32Q0bqbBCuZiKt9dWFysfQefeL29JYFaeztX6tePaZdz5mYx8+6Zq3Mk0wXECQxlhdzgS2wjBHju3j1RIgKyOMdNUE8X0+RAdbSapS11MRCv1SzUXmO6wGZe2SQYrv2MvCSWEv2VODE6DN7bz8ufypgQKW7uQskFTQHULLKyaEyrnlZbgOGLrV5qrn9U79jjm2HJmgkaVN98AfBub91lGPLZBqdroN5LYgjSu4zYZDDHXZOIPC691HqrWI1900I8qLzgKP4ft8DxEWigprPfrO+KcXno9gZz4jjGewWdUcpGCj0qVFuGPYbl2VturndZ2qRvlL8acDO6lF/DY/VjsFesiUK+ypJ+r/ep+cJkSQxEK4PG4WozgA75TYrDDqStE69K8/mzGEM+JXTeqvmedEElMmwCMm2SLd6bNNF9su02zEtoW6nAQtpMj5Gd7fKa//wqonF7UdtHFsVn+6hf1o7AfriPH7M6EeIUEF5zKVxXbYo7kS/OEtOqDYZKPoBsETIixn0uYrasThmzDkhdKPkz2EnaX0HdQbIgr59vAdGYDqjHrxkjS7WOxkTD8sqEqhiwcJETgBYigrBqF08KyDaje9SZ/I1A7MzaTzMGDEulPtZUkuKcyIRAjxEJPVrnVlb/9wkfij31D/pQt1IN+iL8bGJcstBIO7Y5VI/cwDqURbXhMuJxBqD0KLoK3esWFs0Jz5i5ZvJUAfFJMFb9XmGIOnzGpijpcWYCaMqXSQWp8EnCABepQ0Elyi4wfKfsw78ikIqif1pe1AGPlLmojl1SKxHHXp1L+Ut7AmDQHvhI5xHGi4EooO2BR7k78PEkJOdL7cAxQUZ/Tyclu9gnfwGgOmm2lNHGNmZXsq4Pqgc1EG1ATrvKl8s4R9ywwnqulGUnaRLVhxy8v3ieUwy2hbooT68uscW++DCDH0WSzuoyN2D4LUJ/tLECbcSKznwMIFs0ChF4mRTCnQbIIfk4SHJo6A9BMuTnXTs3Ku/KxsgZWqzuSe+Os8cEUfnMBY6UF5gi3SUbd5K7vDjq5WW0UENJlRsWn4sy21Er/E/AvPQSFHy1p4fgAAAAASUVORK5CYII=');  background-repeat: repeat-x;  background-size: 14px;  height: 28px;}\n",
       "</style>\n"
      ],
      "text/plain": [
       "<IPython.core.display.HTML object>"
      ]
     },
     "metadata": {},
     "output_type": "display_data"
    },
    {
     "name": "stdout",
     "output_type": "stream",
     "text": [
      "2.6.4\n"
     ]
    }
   ],
   "source": [
    "%matplotlib inline\n",
    "import warnings\n",
    "warnings.filterwarnings(\"ignore\")\n",
    "\n",
    "import pandas as pd\n",
    "import numpy as np\n",
    "import matplotlib.pyplot as plt\n",
    "import seaborn as sns\n",
    "from sklearn.pipeline import Pipeline, make_pipeline\n",
    "from sklearn.compose import ColumnTransformer\n",
    "from sklearn.preprocessing import FunctionTransformer\n",
    "from sklearn.base import BaseEstimator, TransformerMixin\n",
    "from sklearn.impute import SimpleImputer\n",
    "from sklearn.preprocessing import PowerTransformer, StandardScaler, MinMaxScaler \n",
    "from sklearn.preprocessing import OrdinalEncoder, OneHotEncoder\n",
    "from sklearn.feature_extraction.text import CountVectorizer\n",
    "from sklearn.decomposition import PCA, TruncatedSVD\n",
    "from sklearn.metrics import mean_squared_error\n",
    "from sklearn.cluster import KMeans  \n",
    "from sklearn import set_config\n",
    "from catboost import CatBoostRegressor\n",
    "from lightgbm import LGBMRegressor\n",
    "import shap\n",
    "import re\n",
    "import random\n",
    "\n",
    "import tensorflow as tf\n",
    "from tensorflow import keras\n",
    "print(tf.__version__)"
   ]
  },
  {
   "cell_type": "code",
   "execution_count": 4,
   "id": "330fb961",
   "metadata": {
    "execution": {
     "iopub.execute_input": "2022-12-02T18:08:38.727033Z",
     "iopub.status.busy": "2022-12-02T18:08:38.726396Z",
     "iopub.status.idle": "2022-12-02T18:08:38.733338Z",
     "shell.execute_reply": "2022-12-02T18:08:38.732295Z"
    },
    "papermill": {
     "duration": 0.019124,
     "end_time": "2022-12-02T18:08:38.735405",
     "exception": false,
     "start_time": "2022-12-02T18:08:38.716281",
     "status": "completed"
    },
    "tags": []
   },
   "outputs": [
    {
     "name": "stdout",
     "output_type": "stream",
     "text": [
      "RANDOM SEEDS RESET\n"
     ]
    }
   ],
   "source": [
    "# 매번 모델링을 할 때마다 동일한 결과를 얻으려면 아래 코드를 실행해야 함.\n",
    "\n",
    "def reset_seeds(reset_graph_with_backend=None):\n",
    "    if reset_graph_with_backend is not None:\n",
    "        K = reset_graph_with_backend\n",
    "        K.clear_session()\n",
    "        tf.compat.v1.reset_default_graph()\n",
    "        print(\"KERAS AND TENSORFLOW GRAPHS RESET\")  # optional\n",
    "\n",
    "    np.random.seed(SEED)\n",
    "    random.seed(SEED)\n",
    "    tf.compat.v1.set_random_seed(SEED)\n",
    "#    os.environ['CUDA_VISIBLE_DEVICES'] = ''  # for GPU\n",
    "    print(\"RANDOM SEEDS RESET\")  # optional\n",
    "   \n",
    "reset_seeds()\n",
    "\n",
    "# 재현을 하기 위해 SEED 고정. 고정시키지 않으면 돌릴때마다 결과가 달라짐.\n",
    "# 항상 같은 값을 가지려면 전체를 다시 돌려야함."
   ]
  },
  {
   "cell_type": "markdown",
   "id": "164ca915",
   "metadata": {
    "papermill": {
     "duration": 0.006889,
     "end_time": "2022-12-02T18:08:38.749147",
     "exception": false,
     "start_time": "2022-12-02T18:08:38.742258",
     "status": "completed"
    },
    "tags": []
   },
   "source": [
    "#### 데이터 로딩"
   ]
  },
  {
   "cell_type": "code",
   "execution_count": 5,
   "id": "ccf07324",
   "metadata": {
    "execution": {
     "iopub.execute_input": "2022-12-02T18:08:38.765039Z",
     "iopub.status.busy": "2022-12-02T18:08:38.764367Z",
     "iopub.status.idle": "2022-12-02T18:08:38.986374Z",
     "shell.execute_reply": "2022-12-02T18:08:38.985252Z"
    },
    "papermill": {
     "duration": 0.232669,
     "end_time": "2022-12-02T18:08:38.988908",
     "exception": false,
     "start_time": "2022-12-02T18:08:38.756239",
     "status": "completed"
    },
    "tags": []
   },
   "outputs": [],
   "source": [
    "X_train = pd.read_csv('/kaggle/input/kml2022f/X_train.csv', encoding='cp949').drop(columns='ID')\n",
    "y_train = pd.read_csv('/kaggle/input/kml2022f/y_train.csv', encoding='cp949').Salary\n",
    "\n",
    "X_test = pd.read_csv('/kaggle/input/kml2022f/X_test.csv', encoding='cp949')\n",
    "test_id = X_test.ID\n",
    "X_test = X_test.drop(columns='ID')"
   ]
  },
  {
   "cell_type": "markdown",
   "id": "756e16e1",
   "metadata": {
    "papermill": {
     "duration": 0.007149,
     "end_time": "2022-12-02T18:08:39.003524",
     "exception": false,
     "start_time": "2022-12-02T18:08:38.996375",
     "status": "completed"
    },
    "tags": []
   },
   "source": [
    "#### 데이터 클린징"
   ]
  },
  {
   "cell_type": "code",
   "execution_count": 6,
   "id": "cc3655ca",
   "metadata": {
    "execution": {
     "iopub.execute_input": "2022-12-02T18:08:39.019863Z",
     "iopub.status.busy": "2022-12-02T18:08:39.019159Z",
     "iopub.status.idle": "2022-12-02T18:08:39.090526Z",
     "shell.execute_reply": "2022-12-02T18:08:39.089446Z"
    },
    "papermill": {
     "duration": 0.08217,
     "end_time": "2022-12-02T18:08:39.093080",
     "exception": false,
     "start_time": "2022-12-02T18:08:39.010910",
     "status": "completed"
    },
    "tags": []
   },
   "outputs": [],
   "source": [
    "### 경력을 수치로 변환\n",
    "\n",
    "def f1(x):\n",
    "    numbers = re.findall(r'\\d+', x)\n",
    "    return int(numbers[0])*12 if len(numbers) == 1 else int(numbers[0])*12+int(numbers[1])\n",
    "\n",
    "X_train['근무경력'] = X_train['근무경력'].apply(f1)\n",
    "X_test['근무경력'] = X_test['근무경력'].apply(f1)"
   ]
  },
  {
   "cell_type": "markdown",
   "id": "961be564",
   "metadata": {
    "papermill": {
     "duration": 0.006794,
     "end_time": "2022-12-02T18:08:39.107302",
     "exception": false,
     "start_time": "2022-12-02T18:08:39.100508",
     "status": "completed"
    },
    "tags": []
   },
   "source": [
    "#### 유형별 피처 분리"
   ]
  },
  {
   "cell_type": "code",
   "execution_count": 7,
   "id": "304c16d0",
   "metadata": {
    "execution": {
     "iopub.execute_input": "2022-12-02T18:08:39.123189Z",
     "iopub.status.busy": "2022-12-02T18:08:39.122506Z",
     "iopub.status.idle": "2022-12-02T18:08:39.133428Z",
     "shell.execute_reply": "2022-12-02T18:08:39.132628Z"
    },
    "papermill": {
     "duration": 0.021167,
     "end_time": "2022-12-02T18:08:39.135477",
     "exception": false,
     "start_time": "2022-12-02T18:08:39.114310",
     "status": "completed"
    },
    "tags": []
   },
   "outputs": [],
   "source": [
    "numeric_features = ['근무경력','대학성적']\n",
    "categorical_features = ['직종','세부직종','출신대학','대학전공','어학시험','자격증']\n",
    "binary_features = ['직무태그','근무지역','근무형태']\n",
    "\n",
    "X_train = X_train[numeric_features+categorical_features+binary_features] \n",
    "X_test = X_test[numeric_features+categorical_features+binary_features]"
   ]
  },
  {
   "cell_type": "markdown",
   "id": "87dbcc8e",
   "metadata": {
    "papermill": {
     "duration": 0.006827,
     "end_time": "2022-12-02T18:08:39.149501",
     "exception": false,
     "start_time": "2022-12-02T18:08:39.142674",
     "status": "completed"
    },
    "tags": []
   },
   "source": [
    "####  전처리 파이프라인 구축"
   ]
  },
  {
   "cell_type": "markdown",
   "id": "316eb196",
   "metadata": {
    "papermill": {
     "duration": 0.006803,
     "end_time": "2022-12-02T18:08:39.163269",
     "exception": false,
     "start_time": "2022-12-02T18:08:39.156466",
     "status": "completed"
    },
    "tags": []
   },
   "source": [
    "- sklearn에 없는 새로운 전처리기 정의"
   ]
  },
  {
   "cell_type": "code",
   "execution_count": 8,
   "id": "488554a0",
   "metadata": {
    "execution": {
     "iopub.execute_input": "2022-12-02T18:08:39.179705Z",
     "iopub.status.busy": "2022-12-02T18:08:39.179031Z",
     "iopub.status.idle": "2022-12-02T18:08:39.191679Z",
     "shell.execute_reply": "2022-12-02T18:08:39.190967Z"
    },
    "papermill": {
     "duration": 0.023078,
     "end_time": "2022-12-02T18:08:39.193485",
     "exception": false,
     "start_time": "2022-12-02T18:08:39.170407",
     "status": "completed"
    },
    "tags": []
   },
   "outputs": [],
   "source": [
    "# 상하한값 제한을 통한 결측값 처리 함수: FunctionTransformer를 통해 호출\n",
    "def remove_outlier(X, q=0.05):  \n",
    "    df = pd.DataFrame(X)\n",
    "    return df.apply(lambda x: x.clip(x.quantile(q), x.quantile(1-q)), axis=0).values\n",
    "\n",
    "# Shap을 이용한 피처선택 전처리기 클래스\n",
    "class ShapFeatureSelector(TransformerMixin, BaseEstimator):\n",
    "    # 전처리기 생성 즉, ShapFeatureSelector() 호출시 실행\n",
    "    def __init__(self, model):\n",
    "        self.model = model\n",
    "\n",
    "    # 전처리기의 fit() 호출시 실행\n",
    "    def fit(self, X, y):\n",
    "        X = np.array(X)\n",
    "        model = self.model.fit(X, y)\n",
    "        explainer = shap.TreeExplainer(model)\n",
    "        shap_values = explainer.shap_values(X)\n",
    "        self.shap_sum = np.abs(shap_values).mean(axis=0)\n",
    "        return self\n",
    "    \n",
    "    # 전처리기의 transform() 호출시 실행\n",
    "    def transform(self, X):\n",
    "        return X[:,self.shap_sum > 0]        \n",
    "\n",
    "# 군집분석을 활용한 피처생성 전처리기 클래스\n",
    "class KMeansFeaturizer(TransformerMixin, BaseEstimator):\n",
    "    \"\"\"Transforms numeric data into k-means cluster memberships.\n",
    "    This transformer runs k-means on the input data and converts each data point\n",
    "    into the id of the closest cluster.\n",
    "\n",
    "    Parameters\n",
    "    ----------\n",
    "    k: integer, optional, default 10\n",
    "        The number of clusters to group data into.\n",
    "\n",
    "    random_state : integer, optional\n",
    "        This is passed to k-means as the generator used to initialize the \n",
    "        kmeans centers. If an integer is given, it fixes the seed. Defaults to \n",
    "        the global numpy random number generator.\n",
    "    \"\"\"\n",
    "\n",
    "    def __init__(self, k=10, random_state=None):\n",
    "        self.k = k\n",
    "        self.random_state = random_state\n",
    "        self.cluster_encoder = OneHotEncoder().fit(np.array(range(k)).reshape(-1,1))\n",
    "        \n",
    "    def fit(self, X, y=None):\n",
    "        km_model = KMeans(n_clusters=self.k, n_init=20, random_state=self.random_state)\n",
    "        km_model.fit(X)\n",
    "        self.km_model = km_model\n",
    "        return self\n",
    "        \n",
    "    def transform(self, X, y=None):\n",
    "        clusters = self.km_model.predict(X)\n",
    "        new_features = self.cluster_encoder.transform(clusters.reshape(-1,1)).astype(int).todense()\n",
    "        return np.concatenate([X, new_features], axis=1)"
   ]
  },
  {
   "cell_type": "markdown",
   "id": "1e71817c",
   "metadata": {
    "papermill": {
     "duration": 0.006961,
     "end_time": "2022-12-02T18:08:39.208016",
     "exception": false,
     "start_time": "2022-12-02T18:08:39.201055",
     "status": "completed"
    },
    "tags": []
   },
   "source": [
    "- 파이프라인 구성"
   ]
  },
  {
   "cell_type": "code",
   "execution_count": 9,
   "id": "30f4d26c",
   "metadata": {
    "execution": {
     "iopub.execute_input": "2022-12-02T18:08:39.224398Z",
     "iopub.status.busy": "2022-12-02T18:08:39.223356Z",
     "iopub.status.idle": "2022-12-02T18:08:39.663574Z",
     "shell.execute_reply": "2022-12-02T18:08:39.662627Z"
    },
    "papermill": {
     "duration": 0.452182,
     "end_time": "2022-12-02T18:08:39.667222",
     "exception": false,
     "start_time": "2022-12-02T18:08:39.215040",
     "status": "completed"
    },
    "tags": []
   },
   "outputs": [
    {
     "data": {
      "text/html": [
       "<style>#sk-bd4178d5-6009-4efc-9cc3-25f68ffc5996 {color: black;background-color: white;}#sk-bd4178d5-6009-4efc-9cc3-25f68ffc5996 pre{padding: 0;}#sk-bd4178d5-6009-4efc-9cc3-25f68ffc5996 div.sk-toggleable {background-color: white;}#sk-bd4178d5-6009-4efc-9cc3-25f68ffc5996 label.sk-toggleable__label {cursor: pointer;display: block;width: 100%;margin-bottom: 0;padding: 0.3em;box-sizing: border-box;text-align: center;}#sk-bd4178d5-6009-4efc-9cc3-25f68ffc5996 label.sk-toggleable__label-arrow:before {content: \"▸\";float: left;margin-right: 0.25em;color: #696969;}#sk-bd4178d5-6009-4efc-9cc3-25f68ffc5996 label.sk-toggleable__label-arrow:hover:before {color: black;}#sk-bd4178d5-6009-4efc-9cc3-25f68ffc5996 div.sk-estimator:hover label.sk-toggleable__label-arrow:before {color: black;}#sk-bd4178d5-6009-4efc-9cc3-25f68ffc5996 div.sk-toggleable__content {max-height: 0;max-width: 0;overflow: hidden;text-align: left;background-color: #f0f8ff;}#sk-bd4178d5-6009-4efc-9cc3-25f68ffc5996 div.sk-toggleable__content pre {margin: 0.2em;color: black;border-radius: 0.25em;background-color: #f0f8ff;}#sk-bd4178d5-6009-4efc-9cc3-25f68ffc5996 input.sk-toggleable__control:checked~div.sk-toggleable__content {max-height: 200px;max-width: 100%;overflow: auto;}#sk-bd4178d5-6009-4efc-9cc3-25f68ffc5996 input.sk-toggleable__control:checked~label.sk-toggleable__label-arrow:before {content: \"▾\";}#sk-bd4178d5-6009-4efc-9cc3-25f68ffc5996 div.sk-estimator input.sk-toggleable__control:checked~label.sk-toggleable__label {background-color: #d4ebff;}#sk-bd4178d5-6009-4efc-9cc3-25f68ffc5996 div.sk-label input.sk-toggleable__control:checked~label.sk-toggleable__label {background-color: #d4ebff;}#sk-bd4178d5-6009-4efc-9cc3-25f68ffc5996 input.sk-hidden--visually {border: 0;clip: rect(1px 1px 1px 1px);clip: rect(1px, 1px, 1px, 1px);height: 1px;margin: -1px;overflow: hidden;padding: 0;position: absolute;width: 1px;}#sk-bd4178d5-6009-4efc-9cc3-25f68ffc5996 div.sk-estimator {font-family: monospace;background-color: #f0f8ff;border: 1px dotted black;border-radius: 0.25em;box-sizing: border-box;margin-bottom: 0.5em;}#sk-bd4178d5-6009-4efc-9cc3-25f68ffc5996 div.sk-estimator:hover {background-color: #d4ebff;}#sk-bd4178d5-6009-4efc-9cc3-25f68ffc5996 div.sk-parallel-item::after {content: \"\";width: 100%;border-bottom: 1px solid gray;flex-grow: 1;}#sk-bd4178d5-6009-4efc-9cc3-25f68ffc5996 div.sk-label:hover label.sk-toggleable__label {background-color: #d4ebff;}#sk-bd4178d5-6009-4efc-9cc3-25f68ffc5996 div.sk-serial::before {content: \"\";position: absolute;border-left: 1px solid gray;box-sizing: border-box;top: 2em;bottom: 0;left: 50%;}#sk-bd4178d5-6009-4efc-9cc3-25f68ffc5996 div.sk-serial {display: flex;flex-direction: column;align-items: center;background-color: white;padding-right: 0.2em;padding-left: 0.2em;}#sk-bd4178d5-6009-4efc-9cc3-25f68ffc5996 div.sk-item {z-index: 1;}#sk-bd4178d5-6009-4efc-9cc3-25f68ffc5996 div.sk-parallel {display: flex;align-items: stretch;justify-content: center;background-color: white;}#sk-bd4178d5-6009-4efc-9cc3-25f68ffc5996 div.sk-parallel::before {content: \"\";position: absolute;border-left: 1px solid gray;box-sizing: border-box;top: 2em;bottom: 0;left: 50%;}#sk-bd4178d5-6009-4efc-9cc3-25f68ffc5996 div.sk-parallel-item {display: flex;flex-direction: column;position: relative;background-color: white;}#sk-bd4178d5-6009-4efc-9cc3-25f68ffc5996 div.sk-parallel-item:first-child::after {align-self: flex-end;width: 50%;}#sk-bd4178d5-6009-4efc-9cc3-25f68ffc5996 div.sk-parallel-item:last-child::after {align-self: flex-start;width: 50%;}#sk-bd4178d5-6009-4efc-9cc3-25f68ffc5996 div.sk-parallel-item:only-child::after {width: 0;}#sk-bd4178d5-6009-4efc-9cc3-25f68ffc5996 div.sk-dashed-wrapped {border: 1px dashed gray;margin: 0 0.4em 0.5em 0.4em;box-sizing: border-box;padding-bottom: 0.4em;background-color: white;position: relative;}#sk-bd4178d5-6009-4efc-9cc3-25f68ffc5996 div.sk-label label {font-family: monospace;font-weight: bold;background-color: white;display: inline-block;line-height: 1.2em;}#sk-bd4178d5-6009-4efc-9cc3-25f68ffc5996 div.sk-label-container {position: relative;z-index: 2;text-align: center;}#sk-bd4178d5-6009-4efc-9cc3-25f68ffc5996 div.sk-container {/* jupyter's `normalize.less` sets `[hidden] { display: none; }` but bootstrap.min.css set `[hidden] { display: none !important; }` so we also need the `!important` here to be able to override the default hidden behavior on the sphinx rendered scikit-learn.org. See: https://github.com/scikit-learn/scikit-learn/issues/21755 */display: inline-block !important;position: relative;}#sk-bd4178d5-6009-4efc-9cc3-25f68ffc5996 div.sk-text-repr-fallback {display: none;}</style><div id=\"sk-bd4178d5-6009-4efc-9cc3-25f68ffc5996\" class=\"sk-top-container\"><div class=\"sk-text-repr-fallback\"><pre>Pipeline(steps=[(&#x27;column&#x27;,\n",
       "                 ColumnTransformer(transformers=[(&#x27;num&#x27;,\n",
       "                                                  Pipeline(steps=[(&#x27;imputer&#x27;,\n",
       "                                                                   SimpleImputer()),\n",
       "                                                                  (&#x27;outlier&#x27;,\n",
       "                                                                   FunctionTransformer(func=&lt;function remove_outlier at 0x7f6a446b9f80&gt;,\n",
       "                                                                                       kw_args={&#x27;q&#x27;: 0.05})),\n",
       "                                                                  (&#x27;scaler&#x27;,\n",
       "                                                                   PowerTransformer())]),\n",
       "                                                  [&#x27;근무경력&#x27;, &#x27;대학성적&#x27;]),\n",
       "                                                 (&#x27;cat&#x27;,\n",
       "                                                  Pipeline(steps=[(&#x27;imputer&#x27;,\n",
       "                                                                   SimpleImputer(strategy=&#x27;most_frequent&#x27;)),\n",
       "                                                                  (&#x27;encoder&#x27;,\n",
       "                                                                   OneHotEn...\n",
       "                                                                   FunctionTransformer(func=&lt;function &lt;lambda&gt; at 0x7f6a446a18c0&gt;)),\n",
       "                                                                  (&#x27;corpus&#x27;,\n",
       "                                                                   FunctionTransformer(func=&lt;function &lt;lambda&gt; at 0x7f6a446a1950&gt;)),\n",
       "                                                                  (&#x27;BoW&#x27;,\n",
       "                                                                   CountVectorizer()),\n",
       "                                                                  (&#x27;dense&#x27;,\n",
       "                                                                   FunctionTransformer(accept_sparse=True,\n",
       "                                                                                       func=&lt;function &lt;lambda&gt; at 0x7f6a446a19e0&gt;))]),\n",
       "                                                  &#x27;근무형태&#x27;)])),\n",
       "                (&#x27;kmf&#x27;, KMeansFeaturizer(random_state=0)),\n",
       "                (&#x27;select&#x27;,\n",
       "                 ShapFeatureSelector(model=LGBMRegressor(random_state=0)))])</pre><b>Please rerun this cell to show the HTML repr or trust the notebook.</b></div><div class=\"sk-container\" hidden><div class=\"sk-item sk-dashed-wrapped\"><div class=\"sk-label-container\"><div class=\"sk-label sk-toggleable\"><input class=\"sk-toggleable__control sk-hidden--visually\" id=\"454ba8dc-e579-40cf-aab3-dae90251e0c2\" type=\"checkbox\" ><label for=\"454ba8dc-e579-40cf-aab3-dae90251e0c2\" class=\"sk-toggleable__label sk-toggleable__label-arrow\">Pipeline</label><div class=\"sk-toggleable__content\"><pre>Pipeline(steps=[(&#x27;column&#x27;,\n",
       "                 ColumnTransformer(transformers=[(&#x27;num&#x27;,\n",
       "                                                  Pipeline(steps=[(&#x27;imputer&#x27;,\n",
       "                                                                   SimpleImputer()),\n",
       "                                                                  (&#x27;outlier&#x27;,\n",
       "                                                                   FunctionTransformer(func=&lt;function remove_outlier at 0x7f6a446b9f80&gt;,\n",
       "                                                                                       kw_args={&#x27;q&#x27;: 0.05})),\n",
       "                                                                  (&#x27;scaler&#x27;,\n",
       "                                                                   PowerTransformer())]),\n",
       "                                                  [&#x27;근무경력&#x27;, &#x27;대학성적&#x27;]),\n",
       "                                                 (&#x27;cat&#x27;,\n",
       "                                                  Pipeline(steps=[(&#x27;imputer&#x27;,\n",
       "                                                                   SimpleImputer(strategy=&#x27;most_frequent&#x27;)),\n",
       "                                                                  (&#x27;encoder&#x27;,\n",
       "                                                                   OneHotEn...\n",
       "                                                                   FunctionTransformer(func=&lt;function &lt;lambda&gt; at 0x7f6a446a18c0&gt;)),\n",
       "                                                                  (&#x27;corpus&#x27;,\n",
       "                                                                   FunctionTransformer(func=&lt;function &lt;lambda&gt; at 0x7f6a446a1950&gt;)),\n",
       "                                                                  (&#x27;BoW&#x27;,\n",
       "                                                                   CountVectorizer()),\n",
       "                                                                  (&#x27;dense&#x27;,\n",
       "                                                                   FunctionTransformer(accept_sparse=True,\n",
       "                                                                                       func=&lt;function &lt;lambda&gt; at 0x7f6a446a19e0&gt;))]),\n",
       "                                                  &#x27;근무형태&#x27;)])),\n",
       "                (&#x27;kmf&#x27;, KMeansFeaturizer(random_state=0)),\n",
       "                (&#x27;select&#x27;,\n",
       "                 ShapFeatureSelector(model=LGBMRegressor(random_state=0)))])</pre></div></div></div><div class=\"sk-serial\"><div class=\"sk-item sk-dashed-wrapped\"><div class=\"sk-label-container\"><div class=\"sk-label sk-toggleable\"><input class=\"sk-toggleable__control sk-hidden--visually\" id=\"f80331b4-5c7b-484a-a96a-896d3d0ef893\" type=\"checkbox\" ><label for=\"f80331b4-5c7b-484a-a96a-896d3d0ef893\" class=\"sk-toggleable__label sk-toggleable__label-arrow\">column: ColumnTransformer</label><div class=\"sk-toggleable__content\"><pre>ColumnTransformer(transformers=[(&#x27;num&#x27;,\n",
       "                                 Pipeline(steps=[(&#x27;imputer&#x27;, SimpleImputer()),\n",
       "                                                 (&#x27;outlier&#x27;,\n",
       "                                                  FunctionTransformer(func=&lt;function remove_outlier at 0x7f6a446b9f80&gt;,\n",
       "                                                                      kw_args={&#x27;q&#x27;: 0.05})),\n",
       "                                                 (&#x27;scaler&#x27;,\n",
       "                                                  PowerTransformer())]),\n",
       "                                 [&#x27;근무경력&#x27;, &#x27;대학성적&#x27;]),\n",
       "                                (&#x27;cat&#x27;,\n",
       "                                 Pipeline(steps=[(&#x27;imputer&#x27;,\n",
       "                                                  SimpleImputer(strategy=&#x27;most_frequent&#x27;)),\n",
       "                                                 (&#x27;encoder&#x27;,\n",
       "                                                  OneHotEncoder(handle_unknown=&#x27;igno...\n",
       "                                                  FunctionTransformer(accept_sparse=True,\n",
       "                                                                      func=&lt;function &lt;lambda&gt; at 0x7f6a446a19e0&gt;))]),\n",
       "                                 &#x27;근무지역&#x27;),\n",
       "                                (&#x27;bin3&#x27;,\n",
       "                                 Pipeline(steps=[(&#x27;impuer&#x27;,\n",
       "                                                  FunctionTransformer(func=&lt;function &lt;lambda&gt; at 0x7f6a446a18c0&gt;)),\n",
       "                                                 (&#x27;corpus&#x27;,\n",
       "                                                  FunctionTransformer(func=&lt;function &lt;lambda&gt; at 0x7f6a446a1950&gt;)),\n",
       "                                                 (&#x27;BoW&#x27;, CountVectorizer()),\n",
       "                                                 (&#x27;dense&#x27;,\n",
       "                                                  FunctionTransformer(accept_sparse=True,\n",
       "                                                                      func=&lt;function &lt;lambda&gt; at 0x7f6a446a19e0&gt;))]),\n",
       "                                 &#x27;근무형태&#x27;)])</pre></div></div></div><div class=\"sk-parallel\"><div class=\"sk-parallel-item\"><div class=\"sk-item\"><div class=\"sk-label-container\"><div class=\"sk-label sk-toggleable\"><input class=\"sk-toggleable__control sk-hidden--visually\" id=\"2cd7d179-d1e3-4bef-a57a-f973628e0f71\" type=\"checkbox\" ><label for=\"2cd7d179-d1e3-4bef-a57a-f973628e0f71\" class=\"sk-toggleable__label sk-toggleable__label-arrow\">num</label><div class=\"sk-toggleable__content\"><pre>[&#x27;근무경력&#x27;, &#x27;대학성적&#x27;]</pre></div></div></div><div class=\"sk-serial\"><div class=\"sk-item\"><div class=\"sk-serial\"><div class=\"sk-item\"><div class=\"sk-estimator sk-toggleable\"><input class=\"sk-toggleable__control sk-hidden--visually\" id=\"2cb7129d-1e93-4ad1-8a23-59aadc55aab4\" type=\"checkbox\" ><label for=\"2cb7129d-1e93-4ad1-8a23-59aadc55aab4\" class=\"sk-toggleable__label sk-toggleable__label-arrow\">SimpleImputer</label><div class=\"sk-toggleable__content\"><pre>SimpleImputer()</pre></div></div></div><div class=\"sk-item\"><div class=\"sk-estimator sk-toggleable\"><input class=\"sk-toggleable__control sk-hidden--visually\" id=\"04b717f1-f883-4783-96d1-730912866163\" type=\"checkbox\" ><label for=\"04b717f1-f883-4783-96d1-730912866163\" class=\"sk-toggleable__label sk-toggleable__label-arrow\">FunctionTransformer</label><div class=\"sk-toggleable__content\"><pre>FunctionTransformer(func=&lt;function remove_outlier at 0x7f6a446b9f80&gt;,\n",
       "                    kw_args={&#x27;q&#x27;: 0.05})</pre></div></div></div><div class=\"sk-item\"><div class=\"sk-estimator sk-toggleable\"><input class=\"sk-toggleable__control sk-hidden--visually\" id=\"896eb717-fbf9-4772-b3e2-a40c5a70894a\" type=\"checkbox\" ><label for=\"896eb717-fbf9-4772-b3e2-a40c5a70894a\" class=\"sk-toggleable__label sk-toggleable__label-arrow\">PowerTransformer</label><div class=\"sk-toggleable__content\"><pre>PowerTransformer()</pre></div></div></div></div></div></div></div></div><div class=\"sk-parallel-item\"><div class=\"sk-item\"><div class=\"sk-label-container\"><div class=\"sk-label sk-toggleable\"><input class=\"sk-toggleable__control sk-hidden--visually\" id=\"5ce9f85b-fb55-433f-aac4-691c47a75f96\" type=\"checkbox\" ><label for=\"5ce9f85b-fb55-433f-aac4-691c47a75f96\" class=\"sk-toggleable__label sk-toggleable__label-arrow\">cat</label><div class=\"sk-toggleable__content\"><pre>[&#x27;직종&#x27;, &#x27;세부직종&#x27;, &#x27;출신대학&#x27;, &#x27;대학전공&#x27;, &#x27;어학시험&#x27;, &#x27;자격증&#x27;]</pre></div></div></div><div class=\"sk-serial\"><div class=\"sk-item\"><div class=\"sk-serial\"><div class=\"sk-item\"><div class=\"sk-estimator sk-toggleable\"><input class=\"sk-toggleable__control sk-hidden--visually\" id=\"e9e38246-743e-4a86-8275-8d261a4958c3\" type=\"checkbox\" ><label for=\"e9e38246-743e-4a86-8275-8d261a4958c3\" class=\"sk-toggleable__label sk-toggleable__label-arrow\">SimpleImputer</label><div class=\"sk-toggleable__content\"><pre>SimpleImputer(strategy=&#x27;most_frequent&#x27;)</pre></div></div></div><div class=\"sk-item\"><div class=\"sk-estimator sk-toggleable\"><input class=\"sk-toggleable__control sk-hidden--visually\" id=\"92e20493-62c5-473d-8411-7b2e62d0e4bc\" type=\"checkbox\" ><label for=\"92e20493-62c5-473d-8411-7b2e62d0e4bc\" class=\"sk-toggleable__label sk-toggleable__label-arrow\">OneHotEncoder</label><div class=\"sk-toggleable__content\"><pre>OneHotEncoder(handle_unknown=&#x27;ignore&#x27;, sparse=False)</pre></div></div></div></div></div></div></div></div><div class=\"sk-parallel-item\"><div class=\"sk-item\"><div class=\"sk-label-container\"><div class=\"sk-label sk-toggleable\"><input class=\"sk-toggleable__control sk-hidden--visually\" id=\"1d9b81eb-6bcf-41ff-8d53-72e161494e73\" type=\"checkbox\" ><label for=\"1d9b81eb-6bcf-41ff-8d53-72e161494e73\" class=\"sk-toggleable__label sk-toggleable__label-arrow\">bin1</label><div class=\"sk-toggleable__content\"><pre>직무태그</pre></div></div></div><div class=\"sk-serial\"><div class=\"sk-item\"><div class=\"sk-serial\"><div class=\"sk-item\"><div class=\"sk-label-container\"><div class=\"sk-label sk-toggleable\"><input class=\"sk-toggleable__control sk-hidden--visually\" id=\"79be988b-2510-4a54-8e9e-5ada9c918892\" type=\"checkbox\" ><label for=\"79be988b-2510-4a54-8e9e-5ada9c918892\" class=\"sk-toggleable__label sk-toggleable__label-arrow\">pipeline: Pipeline</label><div class=\"sk-toggleable__content\"><pre>Pipeline(steps=[(&#x27;impuer&#x27;,\n",
       "                 FunctionTransformer(func=&lt;function &lt;lambda&gt; at 0x7f6a446a18c0&gt;)),\n",
       "                (&#x27;corpus&#x27;,\n",
       "                 FunctionTransformer(func=&lt;function &lt;lambda&gt; at 0x7f6a446a1950&gt;)),\n",
       "                (&#x27;BoW&#x27;, CountVectorizer()),\n",
       "                (&#x27;dense&#x27;,\n",
       "                 FunctionTransformer(accept_sparse=True,\n",
       "                                     func=&lt;function &lt;lambda&gt; at 0x7f6a446a19e0&gt;))])</pre></div></div></div><div class=\"sk-serial\"><div class=\"sk-item\"><div class=\"sk-estimator sk-toggleable\"><input class=\"sk-toggleable__control sk-hidden--visually\" id=\"690169c2-d72d-4c28-beeb-9542efb0002a\" type=\"checkbox\" ><label for=\"690169c2-d72d-4c28-beeb-9542efb0002a\" class=\"sk-toggleable__label sk-toggleable__label-arrow\">FunctionTransformer</label><div class=\"sk-toggleable__content\"><pre>FunctionTransformer(func=&lt;function &lt;lambda&gt; at 0x7f6a446a18c0&gt;)</pre></div></div></div><div class=\"sk-item\"><div class=\"sk-estimator sk-toggleable\"><input class=\"sk-toggleable__control sk-hidden--visually\" id=\"06386863-6237-4e76-8a51-685d3c831b06\" type=\"checkbox\" ><label for=\"06386863-6237-4e76-8a51-685d3c831b06\" class=\"sk-toggleable__label sk-toggleable__label-arrow\">FunctionTransformer</label><div class=\"sk-toggleable__content\"><pre>FunctionTransformer(func=&lt;function &lt;lambda&gt; at 0x7f6a446a1950&gt;)</pre></div></div></div><div class=\"sk-item\"><div class=\"sk-estimator sk-toggleable\"><input class=\"sk-toggleable__control sk-hidden--visually\" id=\"f50f9758-ef32-473d-9acd-d7df5d78a665\" type=\"checkbox\" ><label for=\"f50f9758-ef32-473d-9acd-d7df5d78a665\" class=\"sk-toggleable__label sk-toggleable__label-arrow\">CountVectorizer</label><div class=\"sk-toggleable__content\"><pre>CountVectorizer()</pre></div></div></div><div class=\"sk-item\"><div class=\"sk-estimator sk-toggleable\"><input class=\"sk-toggleable__control sk-hidden--visually\" id=\"92b18846-fca5-49fb-8573-0fee511b7951\" type=\"checkbox\" ><label for=\"92b18846-fca5-49fb-8573-0fee511b7951\" class=\"sk-toggleable__label sk-toggleable__label-arrow\">FunctionTransformer</label><div class=\"sk-toggleable__content\"><pre>FunctionTransformer(accept_sparse=True,\n",
       "                    func=&lt;function &lt;lambda&gt; at 0x7f6a446a19e0&gt;)</pre></div></div></div></div></div><div class=\"sk-item\"><div class=\"sk-estimator sk-toggleable\"><input class=\"sk-toggleable__control sk-hidden--visually\" id=\"a3f4b3b2-318f-4d83-a55b-751d8b8f3d30\" type=\"checkbox\" ><label for=\"a3f4b3b2-318f-4d83-a55b-751d8b8f3d30\" class=\"sk-toggleable__label sk-toggleable__label-arrow\">TruncatedSVD</label><div class=\"sk-toggleable__content\"><pre>TruncatedSVD(n_components=50, random_state=0)</pre></div></div></div></div></div></div></div></div><div class=\"sk-parallel-item\"><div class=\"sk-item\"><div class=\"sk-label-container\"><div class=\"sk-label sk-toggleable\"><input class=\"sk-toggleable__control sk-hidden--visually\" id=\"6b3cd622-db88-4171-b365-f6e46c99a825\" type=\"checkbox\" ><label for=\"6b3cd622-db88-4171-b365-f6e46c99a825\" class=\"sk-toggleable__label sk-toggleable__label-arrow\">bin2</label><div class=\"sk-toggleable__content\"><pre>근무지역</pre></div></div></div><div class=\"sk-serial\"><div class=\"sk-item\"><div class=\"sk-serial\"><div class=\"sk-item\"><div class=\"sk-estimator sk-toggleable\"><input class=\"sk-toggleable__control sk-hidden--visually\" id=\"c9198845-b80b-4270-9770-0a134cc8b7b4\" type=\"checkbox\" ><label for=\"c9198845-b80b-4270-9770-0a134cc8b7b4\" class=\"sk-toggleable__label sk-toggleable__label-arrow\">FunctionTransformer</label><div class=\"sk-toggleable__content\"><pre>FunctionTransformer(func=&lt;function &lt;lambda&gt; at 0x7f6a446a18c0&gt;)</pre></div></div></div><div class=\"sk-item\"><div class=\"sk-estimator sk-toggleable\"><input class=\"sk-toggleable__control sk-hidden--visually\" id=\"0370f92b-bfec-4754-8e46-c487673fb860\" type=\"checkbox\" ><label for=\"0370f92b-bfec-4754-8e46-c487673fb860\" class=\"sk-toggleable__label sk-toggleable__label-arrow\">FunctionTransformer</label><div class=\"sk-toggleable__content\"><pre>FunctionTransformer(func=&lt;function &lt;lambda&gt; at 0x7f6a446a1950&gt;)</pre></div></div></div><div class=\"sk-item\"><div class=\"sk-estimator sk-toggleable\"><input class=\"sk-toggleable__control sk-hidden--visually\" id=\"bcd60258-1475-4dc6-b4b6-084043fcf16f\" type=\"checkbox\" ><label for=\"bcd60258-1475-4dc6-b4b6-084043fcf16f\" class=\"sk-toggleable__label sk-toggleable__label-arrow\">CountVectorizer</label><div class=\"sk-toggleable__content\"><pre>CountVectorizer()</pre></div></div></div><div class=\"sk-item\"><div class=\"sk-estimator sk-toggleable\"><input class=\"sk-toggleable__control sk-hidden--visually\" id=\"4e535148-c708-4ee3-ba1e-4de2642b059a\" type=\"checkbox\" ><label for=\"4e535148-c708-4ee3-ba1e-4de2642b059a\" class=\"sk-toggleable__label sk-toggleable__label-arrow\">FunctionTransformer</label><div class=\"sk-toggleable__content\"><pre>FunctionTransformer(accept_sparse=True,\n",
       "                    func=&lt;function &lt;lambda&gt; at 0x7f6a446a19e0&gt;)</pre></div></div></div></div></div></div></div></div><div class=\"sk-parallel-item\"><div class=\"sk-item\"><div class=\"sk-label-container\"><div class=\"sk-label sk-toggleable\"><input class=\"sk-toggleable__control sk-hidden--visually\" id=\"60c8fd40-0389-47a3-849a-924c93becf9b\" type=\"checkbox\" ><label for=\"60c8fd40-0389-47a3-849a-924c93becf9b\" class=\"sk-toggleable__label sk-toggleable__label-arrow\">bin3</label><div class=\"sk-toggleable__content\"><pre>근무형태</pre></div></div></div><div class=\"sk-serial\"><div class=\"sk-item\"><div class=\"sk-serial\"><div class=\"sk-item\"><div class=\"sk-estimator sk-toggleable\"><input class=\"sk-toggleable__control sk-hidden--visually\" id=\"8b50e831-65bc-4b6f-b9c7-377cacaad729\" type=\"checkbox\" ><label for=\"8b50e831-65bc-4b6f-b9c7-377cacaad729\" class=\"sk-toggleable__label sk-toggleable__label-arrow\">FunctionTransformer</label><div class=\"sk-toggleable__content\"><pre>FunctionTransformer(func=&lt;function &lt;lambda&gt; at 0x7f6a446a18c0&gt;)</pre></div></div></div><div class=\"sk-item\"><div class=\"sk-estimator sk-toggleable\"><input class=\"sk-toggleable__control sk-hidden--visually\" id=\"0f6d1dc0-067b-4493-83be-50e4e4765beb\" type=\"checkbox\" ><label for=\"0f6d1dc0-067b-4493-83be-50e4e4765beb\" class=\"sk-toggleable__label sk-toggleable__label-arrow\">FunctionTransformer</label><div class=\"sk-toggleable__content\"><pre>FunctionTransformer(func=&lt;function &lt;lambda&gt; at 0x7f6a446a1950&gt;)</pre></div></div></div><div class=\"sk-item\"><div class=\"sk-estimator sk-toggleable\"><input class=\"sk-toggleable__control sk-hidden--visually\" id=\"4bae9a40-d727-4f97-9bee-c67f206c5760\" type=\"checkbox\" ><label for=\"4bae9a40-d727-4f97-9bee-c67f206c5760\" class=\"sk-toggleable__label sk-toggleable__label-arrow\">CountVectorizer</label><div class=\"sk-toggleable__content\"><pre>CountVectorizer()</pre></div></div></div><div class=\"sk-item\"><div class=\"sk-estimator sk-toggleable\"><input class=\"sk-toggleable__control sk-hidden--visually\" id=\"c3c00a75-4a00-4e71-98d7-42e0ba422ae5\" type=\"checkbox\" ><label for=\"c3c00a75-4a00-4e71-98d7-42e0ba422ae5\" class=\"sk-toggleable__label sk-toggleable__label-arrow\">FunctionTransformer</label><div class=\"sk-toggleable__content\"><pre>FunctionTransformer(accept_sparse=True,\n",
       "                    func=&lt;function &lt;lambda&gt; at 0x7f6a446a19e0&gt;)</pre></div></div></div></div></div></div></div></div></div></div><div class=\"sk-item\"><div class=\"sk-estimator sk-toggleable\"><input class=\"sk-toggleable__control sk-hidden--visually\" id=\"24fd28b3-cd01-4dd8-b6de-96685a2728c2\" type=\"checkbox\" ><label for=\"24fd28b3-cd01-4dd8-b6de-96685a2728c2\" class=\"sk-toggleable__label sk-toggleable__label-arrow\">KMeansFeaturizer</label><div class=\"sk-toggleable__content\"><pre>KMeansFeaturizer(random_state=0)</pre></div></div></div><div class=\"sk-item sk-dashed-wrapped\"><div class=\"sk-label-container\"><div class=\"sk-label sk-toggleable\"><input class=\"sk-toggleable__control sk-hidden--visually\" id=\"18c96ae7-5b10-49a2-9979-ffceeeb930f5\" type=\"checkbox\" ><label for=\"18c96ae7-5b10-49a2-9979-ffceeeb930f5\" class=\"sk-toggleable__label sk-toggleable__label-arrow\">select: ShapFeatureSelector</label><div class=\"sk-toggleable__content\"><pre>ShapFeatureSelector(model=LGBMRegressor(random_state=0))</pre></div></div></div><div class=\"sk-parallel\"><div class=\"sk-parallel-item\"><div class=\"sk-item\"><div class=\"sk-serial\"><div class=\"sk-item\"><div class=\"sk-estimator sk-toggleable\"><input class=\"sk-toggleable__control sk-hidden--visually\" id=\"3e2e630e-c43f-4e39-a55a-427c55ee702b\" type=\"checkbox\" ><label for=\"3e2e630e-c43f-4e39-a55a-427c55ee702b\" class=\"sk-toggleable__label sk-toggleable__label-arrow\">LGBMRegressor</label><div class=\"sk-toggleable__content\"><pre>LGBMRegressor(random_state=0)</pre></div></div></div></div></div></div></div></div></div></div></div></div>"
      ],
      "text/plain": [
       "Pipeline(steps=[('column',\n",
       "                 ColumnTransformer(transformers=[('num',\n",
       "                                                  Pipeline(steps=[('imputer',\n",
       "                                                                   SimpleImputer()),\n",
       "                                                                  ('outlier',\n",
       "                                                                   FunctionTransformer(func=<function remove_outlier at 0x7f6a446b9f80>,\n",
       "                                                                                       kw_args={'q': 0.05})),\n",
       "                                                                  ('scaler',\n",
       "                                                                   PowerTransformer())]),\n",
       "                                                  ['근무경력', '대학성적']),\n",
       "                                                 ('cat',\n",
       "                                                  Pipeline(steps=[('imputer',\n",
       "                                                                   SimpleImputer(strategy='most_frequent')),\n",
       "                                                                  ('encoder',\n",
       "                                                                   OneHotEn...\n",
       "                                                                   FunctionTransformer(func=<function <lambda> at 0x7f6a446a18c0>)),\n",
       "                                                                  ('corpus',\n",
       "                                                                   FunctionTransformer(func=<function <lambda> at 0x7f6a446a1950>)),\n",
       "                                                                  ('BoW',\n",
       "                                                                   CountVectorizer()),\n",
       "                                                                  ('dense',\n",
       "                                                                   FunctionTransformer(accept_sparse=True,\n",
       "                                                                                       func=<function <lambda> at 0x7f6a446a19e0>))]),\n",
       "                                                  '근무형태')])),\n",
       "                ('kmf', KMeansFeaturizer(random_state=0)),\n",
       "                ('select',\n",
       "                 ShapFeatureSelector(model=LGBMRegressor(random_state=0)))])"
      ]
     },
     "execution_count": 9,
     "metadata": {},
     "output_type": "execute_result"
    }
   ],
   "source": [
    "numeric_transformer = Pipeline(\n",
    "    steps=[\n",
    "        (\"imputer\", SimpleImputer(strategy=\"mean\")),\n",
    "        (\"outlier\", FunctionTransformer(remove_outlier, kw_args={'q':0.05})),\n",
    "        (\"scaler\", PowerTransformer()),\n",
    "    ]\n",
    ")\n",
    "\n",
    "categorical_transformer = Pipeline(\n",
    "    steps=[\n",
    "        (\"imputer\", SimpleImputer(strategy=\"most_frequent\")), \n",
    "        (\"encoder\", OneHotEncoder(handle_unknown=\"ignore\", sparse=False)),\n",
    "    ]\n",
    ")\n",
    "\n",
    "binary_transformer = Pipeline(\n",
    "    steps=[\n",
    "        (\"impuer\", FunctionTransformer(lambda x: x.fillna('없음'))),      \n",
    "        (\"corpus\", FunctionTransformer(lambda x: x.str.replace('·',',').str.split(',').str.join(\" \"))),\n",
    "        (\"BoW\", CountVectorizer()),\n",
    "        (\"dense\", FunctionTransformer(lambda x: x.toarray().astype(int), accept_sparse=True)),\n",
    "    ]\n",
    ")\n",
    "\n",
    "column_transformer = ColumnTransformer(\n",
    "    transformers=[\n",
    "        (\"num\", numeric_transformer, numeric_features),\n",
    "        (\"cat\", categorical_transformer, categorical_features),\n",
    "        (\"bin1\", make_pipeline(binary_transformer, TruncatedSVD(n_components=NCOMP,random_state=SEED)), binary_features[0]),\n",
    "        (\"bin2\", binary_transformer, binary_features[1]),\n",
    "        (\"bin3\", binary_transformer, binary_features[2]),\n",
    "    ]\n",
    ")\n",
    "\n",
    "preprocessor = Pipeline(\n",
    "    steps=[\n",
    "        (\"column\", column_transformer), \n",
    "        (\"kmf\", KMeansFeaturizer(k=K, random_state=SEED)),\n",
    "        (\"select\", ShapFeatureSelector(model=LGBMRegressor(random_state=SEED))), \n",
    "    ]\n",
    ")\n",
    "\n",
    "set_config(display=\"diagram\")\n",
    "preprocessor"
   ]
  },
  {
   "cell_type": "markdown",
   "id": "2710df3f",
   "metadata": {
    "papermill": {
     "duration": 0.007791,
     "end_time": "2022-12-02T18:08:39.683252",
     "exception": false,
     "start_time": "2022-12-02T18:08:39.675461",
     "status": "completed"
    },
    "tags": []
   },
   "source": [
    "####  데이터 전처리 with 파이프라인"
   ]
  },
  {
   "cell_type": "code",
   "execution_count": 10,
   "id": "56f77e6f",
   "metadata": {
    "execution": {
     "iopub.execute_input": "2022-12-02T18:08:39.701487Z",
     "iopub.status.busy": "2022-12-02T18:08:39.700476Z",
     "iopub.status.idle": "2022-12-02T18:09:42.700523Z",
     "shell.execute_reply": "2022-12-02T18:09:42.699188Z"
    },
    "papermill": {
     "duration": 63.019786,
     "end_time": "2022-12-02T18:09:42.711219",
     "exception": false,
     "start_time": "2022-12-02T18:08:39.691433",
     "status": "completed"
    },
    "tags": []
   },
   "outputs": [
    {
     "name": "stdout",
     "output_type": "stream",
     "text": [
      "(16570, 205)\n"
     ]
    }
   ],
   "source": [
    "X_train = preprocessor.fit_transform(X_train, y_train)\n",
    "X_test = preprocessor.transform(X_test)\n",
    "\n",
    "print(X_train.shape)"
   ]
  },
  {
   "cell_type": "code",
   "execution_count": 11,
   "id": "55c532bb",
   "metadata": {
    "execution": {
     "iopub.execute_input": "2022-12-02T18:09:42.729232Z",
     "iopub.status.busy": "2022-12-02T18:09:42.728817Z",
     "iopub.status.idle": "2022-12-02T18:09:42.734151Z",
     "shell.execute_reply": "2022-12-02T18:09:42.732797Z"
    },
    "papermill": {
     "duration": 0.017238,
     "end_time": "2022-12-02T18:09:42.736536",
     "exception": false,
     "start_time": "2022-12-02T18:09:42.719298",
     "status": "completed"
    },
    "tags": []
   },
   "outputs": [],
   "source": [
    "# 뉴롤렛은 원핫인코딩을 주로 씀. 타겟 인코딩이나, \n",
    "# 중요한건 데이터를 정규화를 시켜야함."
   ]
  },
  {
   "cell_type": "markdown",
   "id": "49365241",
   "metadata": {
    "papermill": {
     "duration": 0.007531,
     "end_time": "2022-12-02T18:09:42.752414",
     "exception": false,
     "start_time": "2022-12-02T18:09:42.744883",
     "status": "completed"
    },
    "tags": []
   },
   "source": [
    "<font color=\"blue\"><p>\n",
    "#### DNN 모형 생성"
   ]
  },
  {
   "cell_type": "markdown",
   "id": "3b9c6d88",
   "metadata": {
    "papermill": {
     "duration": 0.007697,
     "end_time": "2022-12-02T18:09:42.767811",
     "exception": false,
     "start_time": "2022-12-02T18:09:42.760114",
     "status": "completed"
    },
    "tags": []
   },
   "source": [
    "<font color=\"blue\"><p>\n",
    "- 1단계: 모형 정의하기 (입력층/은익층/출력층 쌓기)"
   ]
  },
  {
   "cell_type": "code",
   "execution_count": 12,
   "id": "be2633fb",
   "metadata": {
    "execution": {
     "iopub.execute_input": "2022-12-02T18:09:42.785357Z",
     "iopub.status.busy": "2022-12-02T18:09:42.784504Z",
     "iopub.status.idle": "2022-12-02T18:09:42.791591Z",
     "shell.execute_reply": "2022-12-02T18:09:42.790522Z"
    },
    "papermill": {
     "duration": 0.018354,
     "end_time": "2022-12-02T18:09:42.793881",
     "exception": false,
     "start_time": "2022-12-02T18:09:42.775527",
     "status": "completed"
    },
    "tags": []
   },
   "outputs": [
    {
     "data": {
      "text/plain": [
       "205"
      ]
     },
     "execution_count": 12,
     "metadata": {},
     "output_type": "execute_result"
    }
   ],
   "source": [
    "X_train.shape[1]\n",
    "# 피쳐 수 만큼 input으로 들어감."
   ]
  },
  {
   "cell_type": "code",
   "execution_count": 13,
   "id": "98c04c11",
   "metadata": {
    "execution": {
     "iopub.execute_input": "2022-12-02T18:09:42.812133Z",
     "iopub.status.busy": "2022-12-02T18:09:42.811371Z",
     "iopub.status.idle": "2022-12-02T18:09:43.802598Z",
     "shell.execute_reply": "2022-12-02T18:09:43.801785Z"
    },
    "papermill": {
     "duration": 1.002555,
     "end_time": "2022-12-02T18:09:43.804830",
     "exception": false,
     "start_time": "2022-12-02T18:09:42.802275",
     "status": "completed"
    },
    "tags": []
   },
   "outputs": [
    {
     "name": "stderr",
     "output_type": "stream",
     "text": [
      "2022-12-02 18:09:43.743767: I tensorflow/core/common_runtime/process_util.cc:146] Creating new thread pool with default inter op setting: 2. Tune using inter_op_parallelism_threads for best performance.\n"
     ]
    }
   ],
   "source": [
    "inputs = keras.Input(shape=X_train.shape[1], )          # 입력층\n",
    "x = keras.layers.Dense(128, activation='relu')(inputs)  # 첫번째 은익층, Dense는 다 연결하라는 뜻. 은닉층에 있는 뉴런수가 128\n",
    "x = keras.layers.Dense(64, activation='relu')(x)        # 두번째 은익층\n",
    "output = keras.layers.Dense(1, activation='linear')(x)  # 출력층, 회귀니깐 뉴런 하나, 회귀 문제는 linear로 (이 말은 활성화함수를 쓰지 않겠다 라는 뜻. 분류는 시그모이드나 다른거 씀.)\n",
    "\n",
    "model = keras.Model(inputs=inputs, outputs=output)      # 입력층과 출력층을 지정함으로써 전체모형 정의"
   ]
  },
  {
   "cell_type": "code",
   "execution_count": 14,
   "id": "bea4ebac",
   "metadata": {
    "execution": {
     "iopub.execute_input": "2022-12-02T18:09:43.824229Z",
     "iopub.status.busy": "2022-12-02T18:09:43.823529Z",
     "iopub.status.idle": "2022-12-02T18:09:43.830670Z",
     "shell.execute_reply": "2022-12-02T18:09:43.829723Z"
    },
    "papermill": {
     "duration": 0.019244,
     "end_time": "2022-12-02T18:09:43.832842",
     "exception": false,
     "start_time": "2022-12-02T18:09:43.813598",
     "status": "completed"
    },
    "tags": []
   },
   "outputs": [
    {
     "name": "stdout",
     "output_type": "stream",
     "text": [
      "Model: \"model\"\n",
      "_________________________________________________________________\n",
      "Layer (type)                 Output Shape              Param #   \n",
      "=================================================================\n",
      "input_1 (InputLayer)         [(None, 205)]             0         \n",
      "_________________________________________________________________\n",
      "dense (Dense)                (None, 128)               26368     \n",
      "_________________________________________________________________\n",
      "dense_1 (Dense)              (None, 64)                8256      \n",
      "_________________________________________________________________\n",
      "dense_2 (Dense)              (None, 1)                 65        \n",
      "=================================================================\n",
      "Total params: 34,689\n",
      "Trainable params: 34,689\n",
      "Non-trainable params: 0\n",
      "_________________________________________________________________\n"
     ]
    }
   ],
   "source": [
    "# 모형 구조 출력: Total params가 많을수록 복잡한 모델임.\n",
    "model.summary()\n",
    "\n",
    "# None의 의미는 배치 사이즈에 의해 정해진다. 신경쓸 필요 없음. (입력의 배치 사이즈) \n",
    "\n",
    "# 205*128 + 128 = 26368 뒤 128은 Bias임\n",
    "# 총 3만4천개의 웨이트 학습시켜야함."
   ]
  },
  {
   "cell_type": "code",
   "execution_count": 15,
   "id": "35f62237",
   "metadata": {
    "execution": {
     "iopub.execute_input": "2022-12-02T18:09:43.851552Z",
     "iopub.status.busy": "2022-12-02T18:09:43.850530Z",
     "iopub.status.idle": "2022-12-02T18:09:44.865656Z",
     "shell.execute_reply": "2022-12-02T18:09:44.864145Z"
    },
    "papermill": {
     "duration": 1.027832,
     "end_time": "2022-12-02T18:09:44.868998",
     "exception": false,
     "start_time": "2022-12-02T18:09:43.841166",
     "status": "completed"
    },
    "tags": []
   },
   "outputs": [
    {
     "data": {
      "image/png": "[encoded data removed]",
      "text/plain": [
       "<IPython.core.display.Image object>"
      ]
     },
     "execution_count": 15,
     "metadata": {},
     "output_type": "execute_result"
    }
   ],
   "source": [
    "# 연결 그래프 시각화: graphviz와 pydot 설치 필요 (graphviz 다운로드하고 설치한 후 pip install pydot)\n",
    "keras.utils.plot_model(model, show_shapes=True)"
   ]
  },
  {
   "cell_type": "markdown",
   "id": "88aaeefa",
   "metadata": {
    "papermill": {
     "duration": 0.008673,
     "end_time": "2022-12-02T18:09:44.886418",
     "exception": false,
     "start_time": "2022-12-02T18:09:44.877745",
     "status": "completed"
    },
    "tags": []
   },
   "source": [
    "<font color=\"blue\"><p>\n",
    "- 2단계: 학습방식(손실함수/옵티마이저/평가척도) 설정하기"
   ]
  },
  {
   "cell_type": "code",
   "execution_count": 16,
   "id": "672311b9",
   "metadata": {
    "execution": {
     "iopub.execute_input": "2022-12-02T18:09:44.906404Z",
     "iopub.status.busy": "2022-12-02T18:09:44.905680Z",
     "iopub.status.idle": "2022-12-02T18:09:44.926402Z",
     "shell.execute_reply": "2022-12-02T18:09:44.925617Z"
    },
    "papermill": {
     "duration": 0.033477,
     "end_time": "2022-12-02T18:09:44.928571",
     "exception": false,
     "start_time": "2022-12-02T18:09:44.895094",
     "status": "completed"
    },
    "tags": []
   },
   "outputs": [],
   "source": [
    "model.compile(\n",
    "    loss='mse', # 분류면 크로스엔트로피\n",
    "    optimizer=keras.optimizers.RMSprop(),  # SGD도 있음.                   \n",
    "    metrics=[keras.metrics.RootMeanSquaredError(name='rmse')] # CV랑 비슷한거임.\n",
    ")"
   ]
  },
  {
   "cell_type": "markdown",
   "id": "f849785b",
   "metadata": {
    "papermill": {
     "duration": 0.008531,
     "end_time": "2022-12-02T18:09:44.945873",
     "exception": false,
     "start_time": "2022-12-02T18:09:44.937342",
     "status": "completed"
    },
    "tags": []
   },
   "source": [
    "<font color=\"blue\"><p>\n",
    "- 3단계: 모형 학습하기 (에포크, 배치사이즈, 조기중단 등 지정) "
   ]
  },
  {
   "cell_type": "code",
   "execution_count": 17,
   "id": "497f9c00",
   "metadata": {
    "execution": {
     "iopub.execute_input": "2022-12-02T18:09:44.965698Z",
     "iopub.status.busy": "2022-12-02T18:09:44.965120Z",
     "iopub.status.idle": "2022-12-02T18:10:33.633776Z",
     "shell.execute_reply": "2022-12-02T18:10:33.632324Z"
    },
    "papermill": {
     "duration": 48.681575,
     "end_time": "2022-12-02T18:10:33.636290",
     "exception": false,
     "start_time": "2022-12-02T18:09:44.954715",
     "status": "completed"
    },
    "tags": []
   },
   "outputs": [
    {
     "name": "stderr",
     "output_type": "stream",
     "text": [
      "2022-12-02 18:09:45.070037: I tensorflow/compiler/mlir/mlir_graph_optimization_pass.cc:185] None of the MLIR Optimization Passes are enabled (registered 2)\n"
     ]
    },
    {
     "name": "stdout",
     "output_type": "stream",
     "text": [
      "Epoch 1/200\n",
      "234/234 - 1s - loss: 6943944.0000 - rmse: 2635.1365 - val_loss: 7234373.0000 - val_rmse: 2689.6790\n",
      "Epoch 2/200\n",
      "234/234 - 0s - loss: 1556077.8750 - rmse: 1247.4285 - val_loss: 2062705.5000 - val_rmse: 1436.2122\n",
      "Epoch 3/200\n",
      "234/234 - 0s - loss: 1070165.6250 - rmse: 1034.4880 - val_loss: 1744948.6250 - val_rmse: 1320.9651\n",
      "Epoch 4/200\n",
      "234/234 - 0s - loss: 961385.8750 - rmse: 980.5029 - val_loss: 1634006.7500 - val_rmse: 1278.2827\n",
      "Epoch 5/200\n",
      "234/234 - 0s - loss: 915523.5000 - rmse: 956.8299 - val_loss: 1587035.8750 - val_rmse: 1259.7761\n",
      "Epoch 6/200\n",
      "234/234 - 0s - loss: 890167.6250 - rmse: 943.4869 - val_loss: 1561763.6250 - val_rmse: 1249.7054\n",
      "Epoch 7/200\n",
      "234/234 - 0s - loss: 874143.5625 - rmse: 934.9564 - val_loss: 1545437.5000 - val_rmse: 1243.1562\n",
      "Epoch 8/200\n",
      "234/234 - 0s - loss: 863197.2500 - rmse: 929.0841 - val_loss: 1533207.7500 - val_rmse: 1238.2277\n",
      "Epoch 9/200\n",
      "234/234 - 0s - loss: 855174.3750 - rmse: 924.7564 - val_loss: 1522997.0000 - val_rmse: 1234.0977\n",
      "Epoch 10/200\n",
      "234/234 - 0s - loss: 848898.2500 - rmse: 921.3568 - val_loss: 1513866.2500 - val_rmse: 1230.3927\n",
      "Epoch 11/200\n",
      "234/234 - 0s - loss: 843702.6875 - rmse: 918.5329 - val_loss: 1505253.8750 - val_rmse: 1226.8879\n",
      "Epoch 12/200\n",
      "234/234 - 0s - loss: 839220.0000 - rmse: 916.0895 - val_loss: 1497178.1250 - val_rmse: 1223.5923\n",
      "Epoch 13/200\n",
      "234/234 - 0s - loss: 835233.6250 - rmse: 913.9112 - val_loss: 1489391.7500 - val_rmse: 1220.4064\n",
      "Epoch 14/200\n",
      "234/234 - 0s - loss: 831541.3125 - rmse: 911.8889 - val_loss: 1481721.8750 - val_rmse: 1217.2600\n",
      "Epoch 15/200\n",
      "234/234 - 0s - loss: 828076.7500 - rmse: 909.9872 - val_loss: 1474178.5000 - val_rmse: 1214.1575\n",
      "Epoch 16/200\n",
      "234/234 - 1s - loss: 824770.0000 - rmse: 908.1685 - val_loss: 1466749.6250 - val_rmse: 1211.0944\n",
      "Epoch 17/200\n",
      "234/234 - 1s - loss: 821538.4375 - rmse: 906.3876 - val_loss: 1459244.7500 - val_rmse: 1207.9921\n",
      "Epoch 18/200\n",
      "234/234 - 0s - loss: 818320.8125 - rmse: 904.6108 - val_loss: 1451554.5000 - val_rmse: 1204.8048\n",
      "Epoch 19/200\n",
      "234/234 - 0s - loss: 815050.5625 - rmse: 902.8015 - val_loss: 1443703.8750 - val_rmse: 1201.5422\n",
      "Epoch 20/200\n",
      "234/234 - 0s - loss: 811690.1875 - rmse: 900.9385 - val_loss: 1435523.5000 - val_rmse: 1198.1333\n",
      "Epoch 21/200\n",
      "234/234 - 0s - loss: 808282.2500 - rmse: 899.0452 - val_loss: 1427357.2500 - val_rmse: 1194.7206\n",
      "Epoch 22/200\n",
      "234/234 - 0s - loss: 804940.0000 - rmse: 897.1845 - val_loss: 1419222.7500 - val_rmse: 1191.3114\n",
      "Epoch 23/200\n",
      "234/234 - 0s - loss: 801649.0625 - rmse: 895.3486 - val_loss: 1411237.7500 - val_rmse: 1187.9553\n",
      "Epoch 24/200\n",
      "234/234 - 0s - loss: 798335.8125 - rmse: 893.4964 - val_loss: 1403183.3750 - val_rmse: 1184.5604\n",
      "Epoch 25/200\n",
      "234/234 - 0s - loss: 795039.0000 - rmse: 891.6496 - val_loss: 1395339.5000 - val_rmse: 1181.2449\n",
      "Epoch 26/200\n",
      "234/234 - 0s - loss: 791749.6250 - rmse: 889.8032 - val_loss: 1387460.0000 - val_rmse: 1177.9049\n",
      "Epoch 27/200\n",
      "234/234 - 0s - loss: 788470.6875 - rmse: 887.9587 - val_loss: 1379662.5000 - val_rmse: 1174.5903\n",
      "Epoch 28/200\n",
      "234/234 - 0s - loss: 785241.3125 - rmse: 886.1384 - val_loss: 1372098.5000 - val_rmse: 1171.3661\n",
      "Epoch 29/200\n",
      "234/234 - 0s - loss: 782052.0000 - rmse: 884.3370 - val_loss: 1364704.6250 - val_rmse: 1168.2057\n",
      "Epoch 30/200\n",
      "234/234 - 0s - loss: 778913.7500 - rmse: 882.5609 - val_loss: 1357651.8750 - val_rmse: 1165.1832\n",
      "Epoch 31/200\n",
      "234/234 - 0s - loss: 775827.7500 - rmse: 880.8109 - val_loss: 1350878.6250 - val_rmse: 1162.2731\n",
      "Epoch 32/200\n",
      "234/234 - 0s - loss: 772773.9375 - rmse: 879.0756 - val_loss: 1344327.1250 - val_rmse: 1159.4512\n",
      "Epoch 33/200\n",
      "234/234 - 0s - loss: 769820.8125 - rmse: 877.3943 - val_loss: 1337928.1250 - val_rmse: 1156.6885\n",
      "Epoch 34/200\n",
      "234/234 - 0s - loss: 766920.7500 - rmse: 875.7401 - val_loss: 1331526.2500 - val_rmse: 1153.9177\n",
      "Epoch 35/200\n",
      "234/234 - 0s - loss: 764099.3125 - rmse: 874.1277 - val_loss: 1325356.3750 - val_rmse: 1151.2412\n",
      "Epoch 36/200\n",
      "234/234 - 0s - loss: 761328.5625 - rmse: 872.5414 - val_loss: 1319460.6250 - val_rmse: 1148.6777\n",
      "Epoch 37/200\n",
      "234/234 - 0s - loss: 758628.7500 - rmse: 870.9930 - val_loss: 1313715.8750 - val_rmse: 1146.1744\n",
      "Epoch 38/200\n",
      "234/234 - 0s - loss: 755996.0000 - rmse: 869.4803 - val_loss: 1308253.8750 - val_rmse: 1143.7893\n",
      "Epoch 39/200\n",
      "234/234 - 0s - loss: 753420.7500 - rmse: 867.9981 - val_loss: 1302829.6250 - val_rmse: 1141.4156\n",
      "Epoch 40/200\n",
      "234/234 - 0s - loss: 750887.1250 - rmse: 866.5374 - val_loss: 1297538.3750 - val_rmse: 1139.0955\n",
      "Epoch 41/200\n",
      "234/234 - 0s - loss: 748408.0000 - rmse: 865.1058 - val_loss: 1292718.2500 - val_rmse: 1136.9777\n",
      "Epoch 42/200\n",
      "234/234 - 0s - loss: 746005.8125 - rmse: 863.7163 - val_loss: 1287993.0000 - val_rmse: 1134.8978\n",
      "Epoch 43/200\n",
      "234/234 - 0s - loss: 743710.5625 - rmse: 862.3865 - val_loss: 1283586.3750 - val_rmse: 1132.9547\n",
      "Epoch 44/200\n",
      "234/234 - 0s - loss: 741480.2500 - rmse: 861.0925 - val_loss: 1279551.8750 - val_rmse: 1131.1727\n",
      "Epoch 45/200\n",
      "234/234 - 0s - loss: 739275.1250 - rmse: 859.8111 - val_loss: 1275576.2500 - val_rmse: 1129.4141\n",
      "Epoch 46/200\n",
      "234/234 - 0s - loss: 737111.6250 - rmse: 858.5521 - val_loss: 1271802.5000 - val_rmse: 1127.7422\n",
      "Epoch 47/200\n",
      "234/234 - 0s - loss: 734978.1250 - rmse: 857.3087 - val_loss: 1268076.6250 - val_rmse: 1126.0891\n",
      "Epoch 48/200\n",
      "234/234 - 0s - loss: 732883.8750 - rmse: 856.0864 - val_loss: 1264677.3750 - val_rmse: 1124.5787\n",
      "Epoch 49/200\n",
      "234/234 - 0s - loss: 730826.0000 - rmse: 854.8836 - val_loss: 1261279.1250 - val_rmse: 1123.0669\n",
      "Epoch 50/200\n",
      "234/234 - 0s - loss: 728764.1250 - rmse: 853.6768 - val_loss: 1257956.6250 - val_rmse: 1121.5867\n",
      "Epoch 51/200\n",
      "234/234 - 0s - loss: 726706.3125 - rmse: 852.4707 - val_loss: 1254851.1250 - val_rmse: 1120.2014\n",
      "Epoch 52/200\n",
      "234/234 - 0s - loss: 724652.6875 - rmse: 851.2653 - val_loss: 1251852.6250 - val_rmse: 1118.8622\n",
      "Epoch 53/200\n",
      "234/234 - 0s - loss: 722589.8750 - rmse: 850.0529 - val_loss: 1249169.2500 - val_rmse: 1117.6624\n",
      "Epoch 54/200\n",
      "234/234 - 0s - loss: 720577.5625 - rmse: 848.8684 - val_loss: 1246517.6250 - val_rmse: 1116.4756\n",
      "Epoch 55/200\n",
      "234/234 - 0s - loss: 718599.9375 - rmse: 847.7028 - val_loss: 1244388.7500 - val_rmse: 1115.5217\n",
      "Epoch 56/200\n",
      "234/234 - 0s - loss: 716669.0000 - rmse: 846.5630 - val_loss: 1241841.6250 - val_rmse: 1114.3795\n",
      "Epoch 57/200\n",
      "234/234 - 0s - loss: 714766.8125 - rmse: 845.4388 - val_loss: 1239504.2500 - val_rmse: 1113.3302\n",
      "Epoch 58/200\n",
      "234/234 - 0s - loss: 712871.6875 - rmse: 844.3173 - val_loss: 1237580.3750 - val_rmse: 1112.4659\n",
      "Epoch 59/200\n",
      "234/234 - 0s - loss: 711001.8750 - rmse: 843.2093 - val_loss: 1235723.3750 - val_rmse: 1111.6310\n",
      "Epoch 60/200\n",
      "234/234 - 0s - loss: 709146.3125 - rmse: 842.1083 - val_loss: 1234234.8750 - val_rmse: 1110.9612\n",
      "Epoch 61/200\n",
      "234/234 - 0s - loss: 707299.8750 - rmse: 841.0112 - val_loss: 1232600.2500 - val_rmse: 1110.2253\n",
      "Epoch 62/200\n",
      "234/234 - 0s - loss: 705482.3750 - rmse: 839.9300 - val_loss: 1231271.5000 - val_rmse: 1109.6267\n",
      "Epoch 63/200\n",
      "234/234 - 0s - loss: 703689.1875 - rmse: 838.8618 - val_loss: 1230146.3750 - val_rmse: 1109.1196\n",
      "Epoch 64/200\n",
      "234/234 - 0s - loss: 701924.7500 - rmse: 837.8095 - val_loss: 1228935.6250 - val_rmse: 1108.5737\n",
      "Epoch 65/200\n",
      "234/234 - 0s - loss: 700156.5000 - rmse: 836.7535 - val_loss: 1227942.8750 - val_rmse: 1108.1259\n",
      "Epoch 66/200\n",
      "234/234 - 0s - loss: 698404.2500 - rmse: 835.7058 - val_loss: 1227064.3750 - val_rmse: 1107.7294\n",
      "Epoch 67/200\n",
      "234/234 - 0s - loss: 696623.1250 - rmse: 834.6395 - val_loss: 1226543.2500 - val_rmse: 1107.4941\n",
      "Epoch 68/200\n",
      "234/234 - 0s - loss: 694855.2500 - rmse: 833.5798 - val_loss: 1225960.6250 - val_rmse: 1107.2311\n",
      "Epoch 69/200\n",
      "234/234 - 0s - loss: 693108.5000 - rmse: 832.5314 - val_loss: 1225110.1250 - val_rmse: 1106.8469\n",
      "Epoch 70/200\n",
      "234/234 - 0s - loss: 691356.5625 - rmse: 831.4785 - val_loss: 1224617.3750 - val_rmse: 1106.6243\n",
      "Epoch 71/200\n",
      "234/234 - 0s - loss: 689633.0000 - rmse: 830.4415 - val_loss: 1224334.2500 - val_rmse: 1106.4963\n",
      "Epoch 72/200\n",
      "234/234 - 0s - loss: 687913.3125 - rmse: 829.4054 - val_loss: 1224147.5000 - val_rmse: 1106.4120\n",
      "Epoch 73/200\n",
      "234/234 - 0s - loss: 686192.0625 - rmse: 828.3671 - val_loss: 1224173.5000 - val_rmse: 1106.4237\n",
      "Epoch 74/200\n",
      "234/234 - 0s - loss: 684428.6250 - rmse: 827.3020 - val_loss: 1224206.8750 - val_rmse: 1106.4388\n",
      "Epoch 75/200\n",
      "234/234 - 0s - loss: 682653.5000 - rmse: 826.2285 - val_loss: 1223837.5000 - val_rmse: 1106.2719\n",
      "Epoch 76/200\n",
      "234/234 - 0s - loss: 680914.3125 - rmse: 825.1753 - val_loss: 1223728.6250 - val_rmse: 1106.2227\n",
      "Epoch 77/200\n",
      "234/234 - 0s - loss: 679150.2500 - rmse: 824.1057 - val_loss: 1223497.2500 - val_rmse: 1106.1180\n",
      "Epoch 78/200\n",
      "234/234 - 0s - loss: 677404.3125 - rmse: 823.0458 - val_loss: 1223273.2500 - val_rmse: 1106.0168\n",
      "Epoch 79/200\n",
      "234/234 - 0s - loss: 675674.7500 - rmse: 821.9944 - val_loss: 1223092.8750 - val_rmse: 1105.9353\n",
      "Epoch 80/200\n",
      "234/234 - 0s - loss: 673920.3750 - rmse: 820.9265 - val_loss: 1222802.5000 - val_rmse: 1105.8040\n",
      "Epoch 81/200\n",
      "234/234 - 0s - loss: 672142.1250 - rmse: 819.8428 - val_loss: 1222430.7500 - val_rmse: 1105.6359\n",
      "Epoch 82/200\n",
      "234/234 - 0s - loss: 670367.1875 - rmse: 818.7595 - val_loss: 1221653.7500 - val_rmse: 1105.2844\n",
      "Epoch 83/200\n",
      "234/234 - 0s - loss: 668556.7500 - rmse: 817.6532 - val_loss: 1220841.0000 - val_rmse: 1104.9167\n",
      "Epoch 84/200\n",
      "234/234 - 0s - loss: 666746.1250 - rmse: 816.5452 - val_loss: 1219583.6250 - val_rmse: 1104.3477\n",
      "Epoch 85/200\n",
      "234/234 - 0s - loss: 664925.6250 - rmse: 815.4297 - val_loss: 1218583.8750 - val_rmse: 1103.8949\n",
      "Epoch 86/200\n",
      "234/234 - 0s - loss: 663107.8750 - rmse: 814.3143 - val_loss: 1217732.2500 - val_rmse: 1103.5090\n",
      "Epoch 87/200\n",
      "234/234 - 1s - loss: 661250.1875 - rmse: 813.1729 - val_loss: 1216451.8750 - val_rmse: 1102.9287\n",
      "Epoch 88/200\n",
      "234/234 - 1s - loss: 659388.2500 - rmse: 812.0272 - val_loss: 1215173.6250 - val_rmse: 1102.3491\n",
      "Epoch 89/200\n",
      "234/234 - 1s - loss: 657516.0000 - rmse: 810.8736 - val_loss: 1214086.3750 - val_rmse: 1101.8558\n",
      "Epoch 90/200\n",
      "234/234 - 0s - loss: 655606.6875 - rmse: 809.6954 - val_loss: 1213029.5000 - val_rmse: 1101.3762\n",
      "Epoch 91/200\n",
      "234/234 - 0s - loss: 653714.1250 - rmse: 808.5259 - val_loss: 1211981.5000 - val_rmse: 1100.9003\n",
      "Epoch 92/200\n",
      "234/234 - 0s - loss: 651808.8125 - rmse: 807.3468 - val_loss: 1211175.6250 - val_rmse: 1100.5343\n",
      "Epoch 93/200\n",
      "234/234 - 0s - loss: 649868.4375 - rmse: 806.1442 - val_loss: 1210044.3750 - val_rmse: 1100.0201\n",
      "Epoch 94/200\n",
      "234/234 - 0s - loss: 647868.5000 - rmse: 804.9028 - val_loss: 1209398.7500 - val_rmse: 1099.7267\n",
      "Epoch 95/200\n",
      "234/234 - 0s - loss: 645878.8125 - rmse: 803.6658 - val_loss: 1208658.8750 - val_rmse: 1099.3903\n",
      "Epoch 96/200\n",
      "234/234 - 0s - loss: 643850.8125 - rmse: 802.4031 - val_loss: 1208187.3750 - val_rmse: 1099.1758\n",
      "Epoch 97/200\n",
      "234/234 - 0s - loss: 641797.8125 - rmse: 801.1229 - val_loss: 1207541.3750 - val_rmse: 1098.8818\n",
      "Epoch 98/200\n",
      "234/234 - 0s - loss: 639755.0000 - rmse: 799.8469 - val_loss: 1207046.5000 - val_rmse: 1098.6567\n",
      "Epoch 99/200\n",
      "234/234 - 0s - loss: 637679.3750 - rmse: 798.5483 - val_loss: 1206916.7500 - val_rmse: 1098.5977\n",
      "Epoch 100/200\n",
      "234/234 - 0s - loss: 635575.8125 - rmse: 797.2301 - val_loss: 1206821.3750 - val_rmse: 1098.5542\n",
      "Epoch 101/200\n",
      "234/234 - 0s - loss: 633446.1875 - rmse: 795.8933 - val_loss: 1206578.7500 - val_rmse: 1098.4437\n",
      "Epoch 102/200\n",
      "234/234 - 0s - loss: 631311.1250 - rmse: 794.5509 - val_loss: 1206661.7500 - val_rmse: 1098.4816\n",
      "Epoch 103/200\n",
      "234/234 - 0s - loss: 629170.5000 - rmse: 793.2027 - val_loss: 1206786.1250 - val_rmse: 1098.5382\n",
      "Epoch 104/200\n",
      "234/234 - 0s - loss: 626998.1875 - rmse: 791.8322 - val_loss: 1206807.6250 - val_rmse: 1098.5480\n",
      "Epoch 105/200\n",
      "234/234 - 0s - loss: 624777.4375 - rmse: 790.4286 - val_loss: 1206886.3750 - val_rmse: 1098.5839\n",
      "Epoch 106/200\n",
      "234/234 - 0s - loss: 622587.6250 - rmse: 789.0422 - val_loss: 1207057.7500 - val_rmse: 1098.6617\n"
     ]
    }
   ],
   "source": [
    "hist = model.fit(\n",
    "    x=X_train,\n",
    "    y=y_train,\n",
    "    validation_split=0.1, # DNN 학습시 검증데이터가 필요함. 학습데이터의 10%를 검증데이터로 사용.\n",
    "    batch_size=64, \n",
    "    epochs=200, \n",
    "    callbacks=[keras.callbacks.EarlyStopping(monitor='val_loss', patience=5)], # 검증데이터의 Loss가 5회연속 감소하지 않으면 학습 중단.\n",
    "    shuffle=False,       # 재현을 위해 False로 설정.\n",
    "    verbose=2,\n",
    ")\n",
    "\n",
    "# 뉴롤렛은 그래프의 곡선을 봐야함. 따라서 밸리데이션 해야함. 0.1을 평가할 때 쓰겠다.\n",
    "# 16000/24*200만큼 학습\n",
    "# callbacks 얼리 스타핑 -> 과적합 빠지지 않게 함."
   ]
  },
  {
   "cell_type": "code",
   "execution_count": 18,
   "id": "2e29ddf5",
   "metadata": {
    "execution": {
     "iopub.execute_input": "2022-12-02T18:10:33.679147Z",
     "iopub.status.busy": "2022-12-02T18:10:33.678739Z",
     "iopub.status.idle": "2022-12-02T18:11:07.913209Z",
     "shell.execute_reply": "2022-12-02T18:11:07.912124Z"
    },
    "papermill": {
     "duration": 34.278372,
     "end_time": "2022-12-02T18:11:07.935365",
     "exception": false,
     "start_time": "2022-12-02T18:10:33.656993",
     "status": "completed"
    },
    "tags": []
   },
   "outputs": [
    {
     "data": {
      "image/png": "[encoded data removed]",
      "text/plain": [
       "<Figure size 432x288 with 1 Axes>"
      ]
     },
     "metadata": {
      "needs_background": "light"
     },
     "output_type": "display_data"
    }
   ],
   "source": [
    "# 러닝커브 그리기: 학습이 잘되었는지 어느정도 판단할 수 있음.\n",
    "\n",
    "plt.plot(hist.history['rmse'], label=\"train\")\n",
    "plt.plot(hist.history['val_rmse'], label=\"valid\")\n",
    "plt.xlabel('epoch')\n",
    "plt.ylabel('RMSE')\n",
    "plt.legend()\n",
    "plt.show()\n",
    "\n",
    "# 학습 데이터 loss는 떨어지고 있지만 vaild는 안떨어지고 있음. 따라서 조기종료"
   ]
  },
  {
   "cell_type": "markdown",
   "id": "9a7fe960",
   "metadata": {
    "papermill": {
     "duration": 0.019805,
     "end_time": "2022-12-02T18:11:07.975406",
     "exception": false,
     "start_time": "2022-12-02T18:11:07.955601",
     "status": "completed"
    },
    "tags": []
   },
   "source": [
    "<font color=\"blue\"><p>\n",
    "- 4단계: 예측하기"
   ]
  },
  {
   "cell_type": "code",
   "execution_count": 19,
   "id": "3a07b5a4",
   "metadata": {
    "execution": {
     "iopub.execute_input": "2022-12-02T18:11:08.016766Z",
     "iopub.status.busy": "2022-12-02T18:11:08.016413Z",
     "iopub.status.idle": "2022-12-02T18:11:08.469850Z",
     "shell.execute_reply": "2022-12-02T18:11:08.468959Z"
    },
    "papermill": {
     "duration": 0.476728,
     "end_time": "2022-12-02T18:11:08.472055",
     "exception": false,
     "start_time": "2022-12-02T18:11:07.995327",
     "status": "completed"
    },
    "tags": []
   },
   "outputs": [
    {
     "name": "stdout",
     "output_type": "stream",
     "text": [
      "dnn_1.0_1098.66.csv is ready to submit.\n"
     ]
    }
   ],
   "source": [
    "# 예측값 얻기: sklearn 과 달리 2차원 array로 출력 => 1차원으로 변경 필요.\n",
    "pred = model.predict(X_test).flatten()\n",
    "\n",
    "# submission 화일 생성\n",
    "filename = f'dnn_{DNN_VERSION}_{hist.history[\"val_rmse\"][-1]:.2f}.csv'\n",
    "pd.DataFrame({'ID':test_id, 'Salary':pred}).to_csv(filename, index=False)\n",
    "\n",
    "print(f'{filename} is ready to submit.')"
   ]
  },
  {
   "cell_type": "markdown",
   "id": "68362fb9",
   "metadata": {
    "papermill": {
     "duration": 0.019943,
     "end_time": "2022-12-02T18:11:08.512131",
     "exception": false,
     "start_time": "2022-12-02T18:11:08.492188",
     "status": "completed"
    },
    "tags": []
   },
   "source": [
    "<font color=\"#CC3D3D\"><p>\n",
    "# End"
   ]
  }
 ],
 "metadata": {
  "kernelspec": {
   "display_name": "Python 3",
   "language": "python",
   "name": "python3"
  },
  "language_info": {
   "codemirror_mode": {
    "name": "ipython",
    "version": 3
   },
   "file_extension": ".py",
   "mimetype": "text/x-python",
   "name": "python",
   "nbconvert_exporter": "python",
   "pygments_lexer": "ipython3",
   "version": "3.7.12"
  },
  "papermill": {
   "default_parameters": {},
   "duration": 169.11625,
   "end_time": "2022-12-02T18:11:11.367027",
   "environment_variables": {},
   "exception": null,
   "input_path": "__notebook__.ipynb",
   "output_path": "__notebook__.ipynb",
   "parameters": {},
   "start_time": "2022-12-02T18:08:22.250777",
   "version": "2.3.4"
  }
 },
 "nbformat": 4,
 "nbformat_minor": 5
}
