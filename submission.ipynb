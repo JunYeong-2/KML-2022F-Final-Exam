{
 "cells": [
  {
   "cell_type": "code",
   "execution_count": 1,
   "id": "c0255d4e",
   "metadata": {
    "execution": {
     "iopub.execute_input": "2022-12-16T06:17:18.455302Z",
     "iopub.status.busy": "2022-12-16T06:17:18.454313Z",
     "iopub.status.idle": "2022-12-16T06:17:18.466962Z",
     "shell.execute_reply": "2022-12-16T06:17:18.465917Z"
    },
    "papermill": {
     "duration": 0.022751,
     "end_time": "2022-12-16T06:17:18.469411",
     "exception": false,
     "start_time": "2022-12-16T06:17:18.446660",
     "status": "completed"
    },
    "tags": []
   },
   "outputs": [],
   "source": [
    "# (필수) 아키텍처 유형(1,2,3) 중에서 하나를 골라 지정해야 합니다. 지정한 유형과 구현결과가 일치하지 않으면 \"기타그룹\"으로 간주함.\n",
    "DNN_TYPE = 3"
   ]
  },
  {
   "cell_type": "code",
   "execution_count": 2,
   "id": "c755a854",
   "metadata": {
    "execution": {
     "iopub.execute_input": "2022-12-16T06:17:18.483156Z",
     "iopub.status.busy": "2022-12-16T06:17:18.482135Z",
     "iopub.status.idle": "2022-12-16T06:17:24.838531Z",
     "shell.execute_reply": "2022-12-16T06:17:24.837300Z"
    },
    "papermill": {
     "duration": 6.366347,
     "end_time": "2022-12-16T06:17:24.841669",
     "exception": false,
     "start_time": "2022-12-16T06:17:18.475322",
     "status": "completed"
    },
    "tags": []
   },
   "outputs": [
    {
     "name": "stdout",
     "output_type": "stream",
     "text": [
      "2.6.4\n"
     ]
    }
   ],
   "source": [
    "%matplotlib inline\n",
    "import warnings\n",
    "warnings.filterwarnings(\"ignore\")\n",
    "\n",
    "import pandas as pd\n",
    "import numpy as np\n",
    "import matplotlib.pyplot as plt\n",
    "import seaborn as sns\n",
    "\n",
    "import tensorflow as tf\n",
    "from tensorflow import keras\n",
    "print(tf.__version__)"
   ]
  },
  {
   "cell_type": "code",
   "execution_count": 3,
   "id": "090e03f0",
   "metadata": {
    "execution": {
     "iopub.execute_input": "2022-12-16T06:17:24.856330Z",
     "iopub.status.busy": "2022-12-16T06:17:24.855212Z",
     "iopub.status.idle": "2022-12-16T06:17:27.931232Z",
     "shell.execute_reply": "2022-12-16T06:17:27.929627Z"
    },
    "papermill": {
     "duration": 3.086223,
     "end_time": "2022-12-16T06:17:27.934048",
     "exception": false,
     "start_time": "2022-12-16T06:17:24.847825",
     "status": "completed"
    },
    "tags": []
   },
   "outputs": [
    {
     "data": {
      "text/html": [
       "<style type='text/css'>\n",
       ".datatable table.frame { margin-bottom: 0; }\n",
       ".datatable table.frame thead { border-bottom: none; }\n",
       ".datatable table.frame tr.coltypes td {  color: #FFFFFF;  line-height: 6px;  padding: 0 0.5em;}\n",
       ".datatable .bool    { background: #DDDD99; }\n",
       ".datatable .object  { background: #565656; }\n",
       ".datatable .int     { background: #5D9E5D; }\n",
       ".datatable .float   { background: #4040CC; }\n",
       ".datatable .str     { background: #CC4040; }\n",
       ".datatable .time    { background: #40CC40; }\n",
       ".datatable .row_index {  background: var(--jp-border-color3);  border-right: 1px solid var(--jp-border-color0);  color: var(--jp-ui-font-color3);  font-size: 9px;}\n",
       ".datatable .frame tbody td { text-align: left; }\n",
       ".datatable .frame tr.coltypes .row_index {  background: var(--jp-border-color0);}\n",
       ".datatable th:nth-child(2) { padding-left: 12px; }\n",
       ".datatable .hellipsis {  color: var(--jp-cell-editor-border-color);}\n",
       ".datatable .vellipsis {  background: var(--jp-layout-color0);  color: var(--jp-cell-editor-border-color);}\n",
       ".datatable .na {  color: var(--jp-cell-editor-border-color);  font-size: 80%;}\n",
       ".datatable .sp {  opacity: 0.25;}\n",
       ".datatable .footer { font-size: 9px; }\n",
       ".datatable .frame_dimensions {  background: var(--jp-border-color3);  border-top: 1px solid var(--jp-border-color0);  color: var(--jp-ui-font-color3);  display: inline-block;  opacity: 0.6;  padding: 1px 10px 1px 5px;}\n",
       ".datatable .frame thead tr.colnames {  background-image: url('data:image/png;base64,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');  background-repeat: repeat-x;  background-size: 14px;  height: 28px;}\n",
       "</style>\n"
      ],
      "text/plain": [
       "<IPython.core.display.HTML object>"
      ]
     },
     "metadata": {},
     "output_type": "display_data"
    },
    {
     "name": "stdout",
     "output_type": "stream",
     "text": [
      "2.6.4\n"
     ]
    }
   ],
   "source": [
    "%matplotlib inline\n",
    "import warnings\n",
    "warnings.filterwarnings(\"ignore\")\n",
    "\n",
    "import pandas as pd\n",
    "import numpy as np\n",
    "import matplotlib.pyplot as plt\n",
    "import seaborn as sns\n",
    "from sklearn.pipeline import Pipeline, make_pipeline\n",
    "from sklearn.compose import ColumnTransformer\n",
    "from sklearn.preprocessing import FunctionTransformer\n",
    "from sklearn.base import BaseEstimator, TransformerMixin\n",
    "from sklearn.impute import SimpleImputer\n",
    "from sklearn.preprocessing import PowerTransformer, StandardScaler, MinMaxScaler \n",
    "from sklearn.preprocessing import OrdinalEncoder, OneHotEncoder\n",
    "from sklearn.feature_extraction.text import CountVectorizer\n",
    "from sklearn.decomposition import PCA, TruncatedSVD\n",
    "from sklearn.metrics import mean_squared_error\n",
    "from sklearn.cluster import KMeans  \n",
    "from sklearn import set_config\n",
    "from catboost import CatBoostRegressor\n",
    "from lightgbm import LGBMRegressor\n",
    "import re\n",
    "import random\n",
    "\n",
    "import tensorflow as tf\n",
    "from tensorflow import keras\n",
    "print(tf.__version__)\n",
    "\n",
    "%matplotlib inline\n",
    "import warnings\n",
    "warnings.filterwarnings(\"ignore\")\n",
    "\n",
    "import pandas as pd\n",
    "import numpy as np\n",
    "import matplotlib.pyplot as plt\n",
    "import seaborn as sns\n",
    "from sklearn.model_selection import train_test_split\n",
    "from sklearn.metrics import mean_squared_error\n",
    "from sklearn import set_config\n",
    "import random\n",
    "\n",
    "import tensorflow as tf\n",
    "from tensorflow import keras\n",
    "import kerastuner as kt"
   ]
  },
  {
   "cell_type": "code",
   "execution_count": 4,
   "id": "f9cb1736",
   "metadata": {
    "execution": {
     "iopub.execute_input": "2022-12-16T06:17:27.948643Z",
     "iopub.status.busy": "2022-12-16T06:17:27.947536Z",
     "iopub.status.idle": "2022-12-16T06:17:27.952343Z",
     "shell.execute_reply": "2022-12-16T06:17:27.951427Z"
    },
    "papermill": {
     "duration": 0.014449,
     "end_time": "2022-12-16T06:17:27.954692",
     "exception": false,
     "start_time": "2022-12-16T06:17:27.940243",
     "status": "completed"
    },
    "tags": []
   },
   "outputs": [],
   "source": [
    "SEED=122"
   ]
  },
  {
   "cell_type": "code",
   "execution_count": 5,
   "id": "359c9500",
   "metadata": {
    "execution": {
     "iopub.execute_input": "2022-12-16T06:17:27.969240Z",
     "iopub.status.busy": "2022-12-16T06:17:27.968190Z",
     "iopub.status.idle": "2022-12-16T06:17:28.010169Z",
     "shell.execute_reply": "2022-12-16T06:17:28.008190Z"
    },
    "papermill": {
     "duration": 0.052703,
     "end_time": "2022-12-16T06:17:28.013545",
     "exception": false,
     "start_time": "2022-12-16T06:17:27.960842",
     "status": "completed"
    },
    "tags": []
   },
   "outputs": [
    {
     "name": "stdout",
     "output_type": "stream",
     "text": [
      "(16570, 11) (11048, 11)\n"
     ]
    }
   ],
   "source": [
    "X_train, y_train, X_test, test_id = pd.read_pickle('/kaggle/input/kml2022f-exam/exam_data.pkl')\n",
    "\n",
    "print(X_train.shape, X_test.shape)"
   ]
  },
  {
   "cell_type": "code",
   "execution_count": 6,
   "id": "c2ebe7e7",
   "metadata": {
    "execution": {
     "iopub.execute_input": "2022-12-16T06:17:28.029373Z",
     "iopub.status.busy": "2022-12-16T06:17:28.028976Z",
     "iopub.status.idle": "2022-12-16T06:17:28.038849Z",
     "shell.execute_reply": "2022-12-16T06:17:28.037599Z"
    },
    "papermill": {
     "duration": 0.02182,
     "end_time": "2022-12-16T06:17:28.041608",
     "exception": false,
     "start_time": "2022-12-16T06:17:28.019788",
     "status": "completed"
    },
    "tags": []
   },
   "outputs": [],
   "source": [
    "scaler = StandardScaler()\n",
    "X_train = scaler.fit_transform(X_train)\n",
    "X_test = scaler.transform(X_test)"
   ]
  },
  {
   "cell_type": "code",
   "execution_count": 7,
   "id": "7546619b",
   "metadata": {
    "execution": {
     "iopub.execute_input": "2022-12-16T06:17:28.056071Z",
     "iopub.status.busy": "2022-12-16T06:17:28.055668Z",
     "iopub.status.idle": "2022-12-16T06:17:28.066270Z",
     "shell.execute_reply": "2022-12-16T06:17:28.065311Z"
    },
    "papermill": {
     "duration": 0.020915,
     "end_time": "2022-12-16T06:17:28.068706",
     "exception": false,
     "start_time": "2022-12-16T06:17:28.047791",
     "status": "completed"
    },
    "tags": []
   },
   "outputs": [],
   "source": [
    "X_train, X_valid, y_train, y_valid = train_test_split(X_train, y_train, test_size=0.1, random_state=SEED)"
   ]
  },
  {
   "cell_type": "code",
   "execution_count": 8,
   "id": "0d2f5009",
   "metadata": {
    "execution": {
     "iopub.execute_input": "2022-12-16T06:17:28.084921Z",
     "iopub.status.busy": "2022-12-16T06:17:28.083736Z",
     "iopub.status.idle": "2022-12-16T06:17:28.091864Z",
     "shell.execute_reply": "2022-12-16T06:17:28.090473Z"
    },
    "papermill": {
     "duration": 0.017529,
     "end_time": "2022-12-16T06:17:28.094015",
     "exception": false,
     "start_time": "2022-12-16T06:17:28.076486",
     "status": "completed"
    },
    "tags": []
   },
   "outputs": [
    {
     "name": "stdout",
     "output_type": "stream",
     "text": [
      "RANDOM SEEDS RESET\n"
     ]
    }
   ],
   "source": [
    "# 매번 모델링을 할 때마다 동일한 결과를 얻으려면 아래 코드를 실행해야 함.\n",
    "\n",
    "def reset_seeds(reset_graph_with_backend=None):\n",
    "    if reset_graph_with_backend is not None:\n",
    "        K = reset_graph_with_backend\n",
    "        K.clear_session()\n",
    "        tf.compat.v1.reset_default_graph()\n",
    "        print(\"KERAS AND TENSORFLOW GRAPHS RESET\")  # optional\n",
    "\n",
    "    np.random.seed(SEED)\n",
    "    random.seed(SEED)\n",
    "    tf.compat.v1.set_random_seed(SEED)\n",
    "#    os.environ['CUDA_VISIBLE_DEVICES'] = ''  # for GPU\n",
    "    print(\"RANDOM SEEDS RESET\")  # optional\n",
    "   \n",
    "reset_seeds()"
   ]
  },
  {
   "cell_type": "code",
   "execution_count": 9,
   "id": "0202e7fe",
   "metadata": {
    "execution": {
     "iopub.execute_input": "2022-12-16T06:17:28.108348Z",
     "iopub.status.busy": "2022-12-16T06:17:28.107385Z",
     "iopub.status.idle": "2022-12-16T06:17:28.263707Z",
     "shell.execute_reply": "2022-12-16T06:17:28.261674Z"
    },
    "papermill": {
     "duration": 0.166698,
     "end_time": "2022-12-16T06:17:28.266790",
     "exception": false,
     "start_time": "2022-12-16T06:17:28.100092",
     "status": "completed"
    },
    "tags": []
   },
   "outputs": [
    {
     "name": "stderr",
     "output_type": "stream",
     "text": [
      "2022-12-16 06:17:28.163776: I tensorflow/core/common_runtime/process_util.cc:146] Creating new thread pool with default inter op setting: 2. Tune using inter_op_parallelism_threads for best performance.\n"
     ]
    }
   ],
   "source": [
    "inputs = keras.Input(shape=X_train.shape[1],)\n",
    "\n",
    "y = keras.layers.BatchNormalization()(inputs)\n",
    "\n",
    "x = keras.layers.Dense(32, activation='elu')(inputs)\n",
    "x = keras.layers.Dense(11, activation='elu')(x)\n",
    "\n",
    "x = keras.layers.Add()([x, y])\n",
    "\n",
    "z = keras.layers.Dense(32, activation='elu')(x)\n",
    "z = keras.layers.Dense(11, activation='elu')(z)\n",
    "\n",
    "x = keras.layers.Add()([x, z])\n",
    "outputs = keras.layers.Dense(1, activation='elu')(x)\n",
    "\n",
    "model = keras.Model(inputs, outputs)"
   ]
  },
  {
   "cell_type": "code",
   "execution_count": 10,
   "id": "06a852ff",
   "metadata": {
    "execution": {
     "iopub.execute_input": "2022-12-16T06:17:28.280875Z",
     "iopub.status.busy": "2022-12-16T06:17:28.280466Z",
     "iopub.status.idle": "2022-12-16T06:17:29.579021Z",
     "shell.execute_reply": "2022-12-16T06:17:29.577615Z"
    },
    "papermill": {
     "duration": 1.30873,
     "end_time": "2022-12-16T06:17:29.581733",
     "exception": false,
     "start_time": "2022-12-16T06:17:28.273003",
     "status": "completed"
    },
    "tags": []
   },
   "outputs": [
    {
     "data": {
      "image/png": "[encoded data removed]",
      "text/plain": [
       "<IPython.core.display.Image object>"
      ]
     },
     "execution_count": 10,
     "metadata": {},
     "output_type": "execute_result"
    }
   ],
   "source": [
    "# (필수) 모델 정의를 한 후 반드시 아래 코드를 그대로 실행하여 선택한 아키텍처가 제대로 구현되었는지 보여주어야 합니다!!!\n",
    "keras.utils.plot_model(model, show_shapes=True, show_layer_names=False, dpi=100, rankdir='LR')"
   ]
  },
  {
   "cell_type": "code",
   "execution_count": 11,
   "id": "0922ef54",
   "metadata": {
    "execution": {
     "iopub.execute_input": "2022-12-16T06:17:29.598771Z",
     "iopub.status.busy": "2022-12-16T06:17:29.598291Z",
     "iopub.status.idle": "2022-12-16T06:17:29.605113Z",
     "shell.execute_reply": "2022-12-16T06:17:29.604197Z"
    },
    "papermill": {
     "duration": 0.018308,
     "end_time": "2022-12-16T06:17:29.607517",
     "exception": false,
     "start_time": "2022-12-16T06:17:29.589209",
     "status": "completed"
    },
    "tags": []
   },
   "outputs": [],
   "source": [
    "def model_fn(hp):\n",
    "    model = keras.Model(inputs, outputs)\n",
    "    model.compile(loss='mse', \n",
    "                  optimizer=tf.keras.optimizers.Adam(hp.Choice('learning_rate', [0.05, 0.03, 0.01, 0.005, 0.001, 0.0005])), \n",
    "                  metrics=[keras.metrics.RootMeanSquaredError(name='rmse')])\n",
    "    return model"
   ]
  },
  {
   "cell_type": "code",
   "execution_count": 12,
   "id": "f98163a1",
   "metadata": {
    "execution": {
     "iopub.execute_input": "2022-12-16T06:17:29.624398Z",
     "iopub.status.busy": "2022-12-16T06:17:29.623715Z",
     "iopub.status.idle": "2022-12-16T06:17:29.654968Z",
     "shell.execute_reply": "2022-12-16T06:17:29.653610Z"
    },
    "papermill": {
     "duration": 0.042965,
     "end_time": "2022-12-16T06:17:29.657773",
     "exception": false,
     "start_time": "2022-12-16T06:17:29.614808",
     "status": "completed"
    },
    "tags": []
   },
   "outputs": [],
   "source": [
    "# Tuner 설정\n",
    "tuner = kt.Hyperband(model_fn,\n",
    "                     objective=kt.Objective('val_rmse', direction=\"min\"), \n",
    "                     max_epochs=100,\n",
    "                     hyperband_iterations=2,\n",
    "                     overwrite=True,\n",
    "                     directory='dnn_tuning')"
   ]
  },
  {
   "cell_type": "code",
   "execution_count": 13,
   "id": "b84fe2d8",
   "metadata": {
    "execution": {
     "iopub.execute_input": "2022-12-16T06:17:29.675928Z",
     "iopub.status.busy": "2022-12-16T06:17:29.675095Z",
     "iopub.status.idle": "2022-12-16T06:17:49.775803Z",
     "shell.execute_reply": "2022-12-16T06:17:49.774387Z"
    },
    "papermill": {
     "duration": 20.113285,
     "end_time": "2022-12-16T06:17:49.778360",
     "exception": false,
     "start_time": "2022-12-16T06:17:29.665075",
     "status": "completed"
    },
    "tags": []
   },
   "outputs": [
    {
     "name": "stderr",
     "output_type": "stream",
     "text": [
      "2022-12-16 06:17:30.034272: I tensorflow/compiler/mlir/mlir_graph_optimization_pass.cc:185] None of the MLIR Optimization Passes are enabled (registered 2)\n"
     ]
    },
    {
     "name": "stdout",
     "output_type": "stream",
     "text": [
      "CPU times: user 19.7 s, sys: 2.25 s, total: 21.9 s\n",
      "Wall time: 20.1 s\n"
     ]
    }
   ],
   "source": [
    "%%time\n",
    "\n",
    "# 최적화 수행\n",
    "tuner.search(X_train, y_train, \n",
    "             validation_data=(X_valid, y_valid), \n",
    "             callbacks=[tf.keras.callbacks.EarlyStopping(patience=3)], verbose=0)"
   ]
  },
  {
   "cell_type": "code",
   "execution_count": 14,
   "id": "6833ca77",
   "metadata": {
    "execution": {
     "iopub.execute_input": "2022-12-16T06:17:49.795727Z",
     "iopub.status.busy": "2022-12-16T06:17:49.794213Z",
     "iopub.status.idle": "2022-12-16T06:17:50.353607Z",
     "shell.execute_reply": "2022-12-16T06:17:50.352466Z"
    },
    "papermill": {
     "duration": 0.571333,
     "end_time": "2022-12-16T06:17:50.357070",
     "exception": false,
     "start_time": "2022-12-16T06:17:49.785737",
     "status": "completed"
    },
    "tags": []
   },
   "outputs": [],
   "source": [
    "# 베스트 모델 사용\n",
    "model = tuner.get_best_models(1)[0]\n",
    "# submission 화일명에 사용\n",
    "val_rmse = model.evaluate(X_valid, y_valid, verbose=0)[1]"
   ]
  },
  {
   "cell_type": "code",
   "execution_count": 15,
   "id": "57daa060",
   "metadata": {
    "execution": {
     "iopub.execute_input": "2022-12-16T06:17:50.373276Z",
     "iopub.status.busy": "2022-12-16T06:17:50.372877Z",
     "iopub.status.idle": "2022-12-16T06:17:50.379250Z",
     "shell.execute_reply": "2022-12-16T06:17:50.377963Z"
    },
    "papermill": {
     "duration": 0.017531,
     "end_time": "2022-12-16T06:17:50.381860",
     "exception": false,
     "start_time": "2022-12-16T06:17:50.364329",
     "status": "completed"
    },
    "tags": []
   },
   "outputs": [
    {
     "name": "stdout",
     "output_type": "stream",
     "text": [
      "Results summary\n",
      "Results in dnn_tuning/untitled_project\n",
      "Showing 1 best trials\n",
      "<keras_tuner.engine.objective.Objective object at 0x7f4b5d016050>\n",
      "Trial summary\n",
      "Hyperparameters:\n",
      "learning_rate: 0.0005\n",
      "tuner/epochs: 2\n",
      "tuner/initial_epoch: 0\n",
      "tuner/bracket: 4\n",
      "tuner/round: 0\n",
      "Score: 843.7693481445312\n"
     ]
    }
   ],
   "source": [
    "tuner.results_summary(num_trials=1)"
   ]
  },
  {
   "cell_type": "code",
   "execution_count": 16,
   "id": "0721d604",
   "metadata": {
    "execution": {
     "iopub.execute_input": "2022-12-16T06:17:50.399337Z",
     "iopub.status.busy": "2022-12-16T06:17:50.398144Z",
     "iopub.status.idle": "2022-12-16T06:18:06.735102Z",
     "shell.execute_reply": "2022-12-16T06:18:06.733820Z"
    },
    "papermill": {
     "duration": 16.348652,
     "end_time": "2022-12-16T06:18:06.737841",
     "exception": false,
     "start_time": "2022-12-16T06:17:50.389189",
     "status": "completed"
    },
    "tags": []
   },
   "outputs": [
    {
     "name": "stdout",
     "output_type": "stream",
     "text": [
      "Epoch 1/16\n",
      "518/518 - 2s - loss: 669177.1875 - rmse: 818.0325\n",
      "Epoch 2/16\n",
      "518/518 - 1s - loss: 668072.7500 - rmse: 817.3572\n",
      "Epoch 3/16\n",
      "518/518 - 1s - loss: 667421.5000 - rmse: 816.9587\n",
      "Epoch 4/16\n",
      "518/518 - 1s - loss: 666870.4375 - rmse: 816.6213\n",
      "Epoch 5/16\n",
      "518/518 - 1s - loss: 666368.0625 - rmse: 816.3137\n",
      "Epoch 6/16\n",
      "518/518 - 1s - loss: 665894.0625 - rmse: 816.0233\n",
      "Epoch 7/16\n",
      "518/518 - 1s - loss: 665442.3125 - rmse: 815.7465\n",
      "Epoch 8/16\n",
      "518/518 - 1s - loss: 665009.1250 - rmse: 815.4809\n",
      "Epoch 9/16\n",
      "518/518 - 1s - loss: 664600.7500 - rmse: 815.2305\n",
      "Epoch 10/16\n",
      "518/518 - 1s - loss: 664204.9375 - rmse: 814.9877\n",
      "Epoch 11/16\n",
      "518/518 - 1s - loss: 663822.6250 - rmse: 814.7531\n",
      "Epoch 12/16\n",
      "518/518 - 1s - loss: 663448.7500 - rmse: 814.5236\n",
      "Epoch 13/16\n",
      "518/518 - 1s - loss: 663093.8750 - rmse: 814.3058\n",
      "Epoch 14/16\n",
      "518/518 - 1s - loss: 662744.5625 - rmse: 814.0912\n",
      "Epoch 15/16\n",
      "518/518 - 1s - loss: 662411.7500 - rmse: 813.8868\n",
      "Epoch 16/16\n",
      "518/518 - 1s - loss: 662082.0000 - rmse: 813.6842\n"
     ]
    }
   ],
   "source": [
    "# 전체 데이터로 재학습\n",
    "hist = model.fit(\n",
    "    x=np.concatenate((X_train, X_valid)),\n",
    "    y=np.concatenate((y_train, y_valid)),\n",
    "    batch_size=32, \n",
    "    epochs=16,         # 작은값으로 설정\n",
    "    shuffle=False,      \n",
    "    verbose=2,\n",
    ")"
   ]
  },
  {
   "cell_type": "code",
   "execution_count": 17,
   "id": "341ed387",
   "metadata": {
    "execution": {
     "iopub.execute_input": "2022-12-16T06:18:06.759816Z",
     "iopub.status.busy": "2022-12-16T06:18:06.758525Z",
     "iopub.status.idle": "2022-12-16T06:18:07.322941Z",
     "shell.execute_reply": "2022-12-16T06:18:07.321521Z"
    },
    "papermill": {
     "duration": 0.578662,
     "end_time": "2022-12-16T06:18:07.325972",
     "exception": false,
     "start_time": "2022-12-16T06:18:06.747310",
     "status": "completed"
    },
    "tags": []
   },
   "outputs": [
    {
     "name": "stdout",
     "output_type": "stream",
     "text": [
      "submission.csv is ready to submit.\n"
     ]
    }
   ],
   "source": [
    "# 예측값 얻기: sklearn 과 달리 2차원 array로 출력 => 1차원으로 변경 필요.\n",
    "pred = model.predict(X_test).flatten()\n",
    "\n",
    "# submission 화일 생성\n",
    "filename = 'submission.csv'\n",
    "pd.DataFrame({'ID':test_id, 'Salary':pred}).to_csv(filename, index=False)\n",
    "\n",
    "print(f'{filename} is ready to submit.')"
   ]
  },
  {
   "cell_type": "code",
   "execution_count": 18,
   "id": "e5446eff",
   "metadata": {
    "execution": {
     "iopub.execute_input": "2022-12-16T06:18:07.347291Z",
     "iopub.status.busy": "2022-12-16T06:18:07.346508Z",
     "iopub.status.idle": "2022-12-16T06:18:07.354676Z",
     "shell.execute_reply": "2022-12-16T06:18:07.353538Z"
    },
    "papermill": {
     "duration": 0.021177,
     "end_time": "2022-12-16T06:18:07.357003",
     "exception": false,
     "start_time": "2022-12-16T06:18:07.335826",
     "status": "completed"
    },
    "tags": []
   },
   "outputs": [
    {
     "data": {
      "text/plain": [
       "array([2356.1196, 3930.4136, 5249.3135, ..., 2622.6099, 1579.7698,\n",
       "       2016.2439], dtype=float32)"
      ]
     },
     "execution_count": 18,
     "metadata": {},
     "output_type": "execute_result"
    }
   ],
   "source": [
    "pred"
   ]
  },
  {
   "cell_type": "code",
   "execution_count": 19,
   "id": "524e8ea2",
   "metadata": {
    "execution": {
     "iopub.execute_input": "2022-12-16T06:18:07.378125Z",
     "iopub.status.busy": "2022-12-16T06:18:07.377400Z",
     "iopub.status.idle": "2022-12-16T06:18:07.382287Z",
     "shell.execute_reply": "2022-12-16T06:18:07.381160Z"
    },
    "papermill": {
     "duration": 0.018085,
     "end_time": "2022-12-16T06:18:07.384695",
     "exception": false,
     "start_time": "2022-12-16T06:18:07.366610",
     "status": "completed"
    },
    "tags": []
   },
   "outputs": [],
   "source": [
    "#814"
   ]
  }
 ],
 "metadata": {
  "kernelspec": {
   "display_name": "Python 3",
   "language": "python",
   "name": "python3"
  },
  "language_info": {
   "codemirror_mode": {
    "name": "ipython",
    "version": 3
   },
   "file_extension": ".py",
   "mimetype": "text/x-python",
   "name": "python",
   "nbconvert_exporter": "python",
   "pygments_lexer": "ipython3",
   "version": "3.7.12"
  },
  "papermill": {
   "default_parameters": {},
   "duration": 61.213247,
   "end_time": "2022-12-16T06:18:10.757994",
   "environment_variables": {},
   "exception": null,
   "input_path": "__notebook__.ipynb",
   "output_path": "__notebook__.ipynb",
   "parameters": {},
   "start_time": "2022-12-16T06:17:09.544747",
   "version": "2.3.4"
  }
 },
 "nbformat": 4,
 "nbformat_minor": 5
}
